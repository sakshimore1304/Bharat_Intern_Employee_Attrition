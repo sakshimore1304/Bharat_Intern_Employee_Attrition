{
  "nbformat": 4,
  "nbformat_minor": 0,
  "metadata": {
    "colab": {
      "provenance": []
    },
    "kernelspec": {
      "name": "python3",
      "display_name": "Python 3"
    },
    "language_info": {
      "name": "python"
    },
    "widgets": {
      "application/vnd.jupyter.widget-state+json": {
        "9faafaaed9bd4749a518f3a89dec7c35": {
          "model_module": "@jupyter-widgets/controls",
          "model_name": "VBoxModel",
          "model_module_version": "1.5.0",
          "state": {
            "_dom_classes": [
              "widget-interact"
            ],
            "_model_module": "@jupyter-widgets/controls",
            "_model_module_version": "1.5.0",
            "_model_name": "VBoxModel",
            "_view_count": null,
            "_view_module": "@jupyter-widgets/controls",
            "_view_module_version": "1.5.0",
            "_view_name": "VBoxView",
            "box_style": "",
            "children": [
              "IPY_MODEL_ea1de5b681cc48718a64be761d189a56",
              "IPY_MODEL_92e14ce1cca741a39b5c7187f66306e5"
            ],
            "layout": "IPY_MODEL_531f2569f9224fe9aae8699b54ed16f9"
          }
        },
        "ea1de5b681cc48718a64be761d189a56": {
          "model_module": "@jupyter-widgets/controls",
          "model_name": "DropdownModel",
          "model_module_version": "1.5.0",
          "state": {
            "_dom_classes": [],
            "_model_module": "@jupyter-widgets/controls",
            "_model_module_version": "1.5.0",
            "_model_name": "DropdownModel",
            "_options_labels": [
              "Education",
              "EnvironmentSatisfaction",
              "Gender",
              "JobInvolvement",
              "JobSatisfaction",
              "PerformanceRating",
              "WorkLifeBalance",
              "MaritalStatus"
            ],
            "_view_count": null,
            "_view_module": "@jupyter-widgets/controls",
            "_view_module_version": "1.5.0",
            "_view_name": "DropdownView",
            "description": "x",
            "description_tooltip": null,
            "disabled": false,
            "index": 0,
            "layout": "IPY_MODEL_c54568643db646f2a000e49c9e5bc51c",
            "style": "IPY_MODEL_2edad6587a1f4670aabe3a8a50e50634"
          }
        },
        "92e14ce1cca741a39b5c7187f66306e5": {
          "model_module": "@jupyter-widgets/output",
          "model_name": "OutputModel",
          "model_module_version": "1.0.0",
          "state": {
            "_dom_classes": [],
            "_model_module": "@jupyter-widgets/output",
            "_model_module_version": "1.0.0",
            "_model_name": "OutputModel",
            "_view_count": null,
            "_view_module": "@jupyter-widgets/output",
            "_view_module_version": "1.0.0",
            "_view_name": "OutputView",
            "layout": "IPY_MODEL_7d891fe1201845eebaf1ca40c5830556",
            "msg_id": "",
            "outputs": [
              {
                "output_type": "display_data",
                "data": {
                  "text/plain": "<Figure size 640x480 with 1 Axes>",
                  "image/png": "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\n"
                },
                "metadata": {}
              }
            ]
          }
        },
        "531f2569f9224fe9aae8699b54ed16f9": {
          "model_module": "@jupyter-widgets/base",
          "model_name": "LayoutModel",
          "model_module_version": "1.2.0",
          "state": {
            "_model_module": "@jupyter-widgets/base",
            "_model_module_version": "1.2.0",
            "_model_name": "LayoutModel",
            "_view_count": null,
            "_view_module": "@jupyter-widgets/base",
            "_view_module_version": "1.2.0",
            "_view_name": "LayoutView",
            "align_content": null,
            "align_items": null,
            "align_self": null,
            "border": null,
            "bottom": null,
            "display": null,
            "flex": null,
            "flex_flow": null,
            "grid_area": null,
            "grid_auto_columns": null,
            "grid_auto_flow": null,
            "grid_auto_rows": null,
            "grid_column": null,
            "grid_gap": null,
            "grid_row": null,
            "grid_template_areas": null,
            "grid_template_columns": null,
            "grid_template_rows": null,
            "height": null,
            "justify_content": null,
            "justify_items": null,
            "left": null,
            "margin": null,
            "max_height": null,
            "max_width": null,
            "min_height": null,
            "min_width": null,
            "object_fit": null,
            "object_position": null,
            "order": null,
            "overflow": null,
            "overflow_x": null,
            "overflow_y": null,
            "padding": null,
            "right": null,
            "top": null,
            "visibility": null,
            "width": null
          }
        },
        "c54568643db646f2a000e49c9e5bc51c": {
          "model_module": "@jupyter-widgets/base",
          "model_name": "LayoutModel",
          "model_module_version": "1.2.0",
          "state": {
            "_model_module": "@jupyter-widgets/base",
            "_model_module_version": "1.2.0",
            "_model_name": "LayoutModel",
            "_view_count": null,
            "_view_module": "@jupyter-widgets/base",
            "_view_module_version": "1.2.0",
            "_view_name": "LayoutView",
            "align_content": null,
            "align_items": null,
            "align_self": null,
            "border": null,
            "bottom": null,
            "display": null,
            "flex": null,
            "flex_flow": null,
            "grid_area": null,
            "grid_auto_columns": null,
            "grid_auto_flow": null,
            "grid_auto_rows": null,
            "grid_column": null,
            "grid_gap": null,
            "grid_row": null,
            "grid_template_areas": null,
            "grid_template_columns": null,
            "grid_template_rows": null,
            "height": null,
            "justify_content": null,
            "justify_items": null,
            "left": null,
            "margin": null,
            "max_height": null,
            "max_width": null,
            "min_height": null,
            "min_width": null,
            "object_fit": null,
            "object_position": null,
            "order": null,
            "overflow": null,
            "overflow_x": null,
            "overflow_y": null,
            "padding": null,
            "right": null,
            "top": null,
            "visibility": null,
            "width": null
          }
        },
        "2edad6587a1f4670aabe3a8a50e50634": {
          "model_module": "@jupyter-widgets/controls",
          "model_name": "DescriptionStyleModel",
          "model_module_version": "1.5.0",
          "state": {
            "_model_module": "@jupyter-widgets/controls",
            "_model_module_version": "1.5.0",
            "_model_name": "DescriptionStyleModel",
            "_view_count": null,
            "_view_module": "@jupyter-widgets/base",
            "_view_module_version": "1.2.0",
            "_view_name": "StyleView",
            "description_width": ""
          }
        },
        "7d891fe1201845eebaf1ca40c5830556": {
          "model_module": "@jupyter-widgets/base",
          "model_name": "LayoutModel",
          "model_module_version": "1.2.0",
          "state": {
            "_model_module": "@jupyter-widgets/base",
            "_model_module_version": "1.2.0",
            "_model_name": "LayoutModel",
            "_view_count": null,
            "_view_module": "@jupyter-widgets/base",
            "_view_module_version": "1.2.0",
            "_view_name": "LayoutView",
            "align_content": null,
            "align_items": null,
            "align_self": null,
            "border": null,
            "bottom": null,
            "display": null,
            "flex": null,
            "flex_flow": null,
            "grid_area": null,
            "grid_auto_columns": null,
            "grid_auto_flow": null,
            "grid_auto_rows": null,
            "grid_column": null,
            "grid_gap": null,
            "grid_row": null,
            "grid_template_areas": null,
            "grid_template_columns": null,
            "grid_template_rows": null,
            "height": null,
            "justify_content": null,
            "justify_items": null,
            "left": null,
            "margin": null,
            "max_height": null,
            "max_width": null,
            "min_height": null,
            "min_width": null,
            "object_fit": null,
            "object_position": null,
            "order": null,
            "overflow": null,
            "overflow_x": null,
            "overflow_y": null,
            "padding": null,
            "right": null,
            "top": null,
            "visibility": null,
            "width": null
          }
        },
        "0800765da0cf4157ac7d3118ca7e6822": {
          "model_module": "@jupyter-widgets/controls",
          "model_name": "VBoxModel",
          "model_module_version": "1.5.0",
          "state": {
            "_dom_classes": [
              "widget-interact"
            ],
            "_model_module": "@jupyter-widgets/controls",
            "_model_module_version": "1.5.0",
            "_model_name": "VBoxModel",
            "_view_count": null,
            "_view_module": "@jupyter-widgets/controls",
            "_view_module_version": "1.5.0",
            "_view_name": "VBoxView",
            "box_style": "",
            "children": [
              "IPY_MODEL_60197087eb504904afb4bab6890276c4",
              "IPY_MODEL_c795ba13af0247acb90be9172630c383"
            ],
            "layout": "IPY_MODEL_3aeea8ed1b684111b1eccdd551774867"
          }
        },
        "60197087eb504904afb4bab6890276c4": {
          "model_module": "@jupyter-widgets/controls",
          "model_name": "DropdownModel",
          "model_module_version": "1.5.0",
          "state": {
            "_dom_classes": [],
            "_model_module": "@jupyter-widgets/controls",
            "_model_module_version": "1.5.0",
            "_model_name": "DropdownModel",
            "_options_labels": [
              "EducationField",
              "OverTime",
              "JobRole",
              "YearsAtCompany",
              "Department"
            ],
            "_view_count": null,
            "_view_module": "@jupyter-widgets/controls",
            "_view_module_version": "1.5.0",
            "_view_name": "DropdownView",
            "description": "factors",
            "description_tooltip": null,
            "disabled": false,
            "index": 0,
            "layout": "IPY_MODEL_94fad13add80444bb1ab7419f726bd7f",
            "style": "IPY_MODEL_e65ba189d44a4a56b58686f8312d3d79"
          }
        },
        "c795ba13af0247acb90be9172630c383": {
          "model_module": "@jupyter-widgets/output",
          "model_name": "OutputModel",
          "model_module_version": "1.0.0",
          "state": {
            "_dom_classes": [],
            "_model_module": "@jupyter-widgets/output",
            "_model_module_version": "1.0.0",
            "_model_name": "OutputModel",
            "_view_count": null,
            "_view_module": "@jupyter-widgets/output",
            "_view_module_version": "1.0.0",
            "_view_name": "OutputView",
            "layout": "IPY_MODEL_64cf717e72eb4678bbacc389c6eb77f0",
            "msg_id": "",
            "outputs": [
              {
                "output_type": "display_data",
                "data": {
                  "text/plain": "<Figure size 640x480 with 1 Axes>",
                  "image/png": "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\n"
                },
                "metadata": {}
              }
            ]
          }
        },
        "3aeea8ed1b684111b1eccdd551774867": {
          "model_module": "@jupyter-widgets/base",
          "model_name": "LayoutModel",
          "model_module_version": "1.2.0",
          "state": {
            "_model_module": "@jupyter-widgets/base",
            "_model_module_version": "1.2.0",
            "_model_name": "LayoutModel",
            "_view_count": null,
            "_view_module": "@jupyter-widgets/base",
            "_view_module_version": "1.2.0",
            "_view_name": "LayoutView",
            "align_content": null,
            "align_items": null,
            "align_self": null,
            "border": null,
            "bottom": null,
            "display": null,
            "flex": null,
            "flex_flow": null,
            "grid_area": null,
            "grid_auto_columns": null,
            "grid_auto_flow": null,
            "grid_auto_rows": null,
            "grid_column": null,
            "grid_gap": null,
            "grid_row": null,
            "grid_template_areas": null,
            "grid_template_columns": null,
            "grid_template_rows": null,
            "height": null,
            "justify_content": null,
            "justify_items": null,
            "left": null,
            "margin": null,
            "max_height": null,
            "max_width": null,
            "min_height": null,
            "min_width": null,
            "object_fit": null,
            "object_position": null,
            "order": null,
            "overflow": null,
            "overflow_x": null,
            "overflow_y": null,
            "padding": null,
            "right": null,
            "top": null,
            "visibility": null,
            "width": null
          }
        },
        "94fad13add80444bb1ab7419f726bd7f": {
          "model_module": "@jupyter-widgets/base",
          "model_name": "LayoutModel",
          "model_module_version": "1.2.0",
          "state": {
            "_model_module": "@jupyter-widgets/base",
            "_model_module_version": "1.2.0",
            "_model_name": "LayoutModel",
            "_view_count": null,
            "_view_module": "@jupyter-widgets/base",
            "_view_module_version": "1.2.0",
            "_view_name": "LayoutView",
            "align_content": null,
            "align_items": null,
            "align_self": null,
            "border": null,
            "bottom": null,
            "display": null,
            "flex": null,
            "flex_flow": null,
            "grid_area": null,
            "grid_auto_columns": null,
            "grid_auto_flow": null,
            "grid_auto_rows": null,
            "grid_column": null,
            "grid_gap": null,
            "grid_row": null,
            "grid_template_areas": null,
            "grid_template_columns": null,
            "grid_template_rows": null,
            "height": null,
            "justify_content": null,
            "justify_items": null,
            "left": null,
            "margin": null,
            "max_height": null,
            "max_width": null,
            "min_height": null,
            "min_width": null,
            "object_fit": null,
            "object_position": null,
            "order": null,
            "overflow": null,
            "overflow_x": null,
            "overflow_y": null,
            "padding": null,
            "right": null,
            "top": null,
            "visibility": null,
            "width": null
          }
        },
        "e65ba189d44a4a56b58686f8312d3d79": {
          "model_module": "@jupyter-widgets/controls",
          "model_name": "DescriptionStyleModel",
          "model_module_version": "1.5.0",
          "state": {
            "_model_module": "@jupyter-widgets/controls",
            "_model_module_version": "1.5.0",
            "_model_name": "DescriptionStyleModel",
            "_view_count": null,
            "_view_module": "@jupyter-widgets/base",
            "_view_module_version": "1.2.0",
            "_view_name": "StyleView",
            "description_width": ""
          }
        },
        "64cf717e72eb4678bbacc389c6eb77f0": {
          "model_module": "@jupyter-widgets/base",
          "model_name": "LayoutModel",
          "model_module_version": "1.2.0",
          "state": {
            "_model_module": "@jupyter-widgets/base",
            "_model_module_version": "1.2.0",
            "_model_name": "LayoutModel",
            "_view_count": null,
            "_view_module": "@jupyter-widgets/base",
            "_view_module_version": "1.2.0",
            "_view_name": "LayoutView",
            "align_content": null,
            "align_items": null,
            "align_self": null,
            "border": null,
            "bottom": null,
            "display": null,
            "flex": null,
            "flex_flow": null,
            "grid_area": null,
            "grid_auto_columns": null,
            "grid_auto_flow": null,
            "grid_auto_rows": null,
            "grid_column": null,
            "grid_gap": null,
            "grid_row": null,
            "grid_template_areas": null,
            "grid_template_columns": null,
            "grid_template_rows": null,
            "height": null,
            "justify_content": null,
            "justify_items": null,
            "left": null,
            "margin": null,
            "max_height": null,
            "max_width": null,
            "min_height": null,
            "min_width": null,
            "object_fit": null,
            "object_position": null,
            "order": null,
            "overflow": null,
            "overflow_x": null,
            "overflow_y": null,
            "padding": null,
            "right": null,
            "top": null,
            "visibility": null,
            "width": null
          }
        }
      }
    }
  },
  "cells": [
    {
      "cell_type": "markdown",
      "source": [
        "Employee and attrition and performance"
      ],
      "metadata": {
        "id": "wZ7BZwb4oXGK"
      }
    },
    {
      "cell_type": "markdown",
      "source": [
        "this data analysis is done by Sakshi K More"
      ],
      "metadata": {
        "id": "4PoJ0HyuodzL"
      }
    },
    {
      "cell_type": "markdown",
      "source": [
        "importing all the required libraries"
      ],
      "metadata": {
        "id": "4TtLN9W3ojzI"
      }
    },
    {
      "cell_type": "code",
      "execution_count": 79,
      "metadata": {
        "id": "MM6qblBUSNwO"
      },
      "outputs": [],
      "source": [
        "import pandas as pd\n",
        "import numpy as np\n",
        "import matplotlib.pyplot as plt\n",
        "import seaborn as sns\n",
        "import datetime as dt\n",
        "from sklearn.model_selection import train_test_split\n",
        "from sklearn.linear_model import LogisticRegression\n",
        "from sklearn.cluster import KMeans\n",
        "from sklearn.naive_bayes import GaussianNB\n",
        "from sklearn.tree import DecisionTreeClassifier\n",
        "from sklearn.metrics import accuracy_score\n",
        "from ipywidgets import interact"
      ]
    },
    {
      "cell_type": "markdown",
      "source": [
        "loading the dataset"
      ],
      "metadata": {
        "id": "iazuwPzXonWX"
      }
    },
    {
      "cell_type": "code",
      "source": [
        "data=pd.read_csv('Employee.csv')"
      ],
      "metadata": {
        "id": "5mi46xxVS5jD"
      },
      "execution_count": 80,
      "outputs": []
    },
    {
      "cell_type": "code",
      "source": [
        "data.head()"
      ],
      "metadata": {
        "colab": {
          "base_uri": "https://localhost:8080/",
          "height": 369
        },
        "id": "PJazUloSTHch",
        "outputId": "e105f61a-3812-4f24-9afb-206c34d8f741"
      },
      "execution_count": 81,
      "outputs": [
        {
          "output_type": "execute_result",
          "data": {
            "text/plain": [
              "   Age Attrition     BusinessTravel  DailyRate              Department  \\\n",
              "0   41       Yes      Travel_Rarely       1102                   Sales   \n",
              "1   49        No  Travel_Frequently        279  Research & Development   \n",
              "2   37       Yes      Travel_Rarely       1373  Research & Development   \n",
              "3   33        No  Travel_Frequently       1392  Research & Development   \n",
              "4   27        No      Travel_Rarely        591  Research & Development   \n",
              "\n",
              "   DistanceFromHome  Education EducationField  EmployeeCount  EmployeeNumber  \\\n",
              "0                 1          2  Life Sciences              1               1   \n",
              "1                 8          1  Life Sciences              1               2   \n",
              "2                 2          2          Other              1               4   \n",
              "3                 3          4  Life Sciences              1               5   \n",
              "4                 2          1        Medical              1               7   \n",
              "\n",
              "   ...  RelationshipSatisfaction StandardHours  StockOptionLevel  \\\n",
              "0  ...                         1            80                 0   \n",
              "1  ...                         4            80                 1   \n",
              "2  ...                         2            80                 0   \n",
              "3  ...                         3            80                 0   \n",
              "4  ...                         4            80                 1   \n",
              "\n",
              "   TotalWorkingYears  TrainingTimesLastYear WorkLifeBalance  YearsAtCompany  \\\n",
              "0                  8                      0               1               6   \n",
              "1                 10                      3               3              10   \n",
              "2                  7                      3               3               0   \n",
              "3                  8                      3               3               8   \n",
              "4                  6                      3               3               2   \n",
              "\n",
              "  YearsInCurrentRole  YearsSinceLastPromotion  YearsWithCurrManager  \n",
              "0                  4                        0                     5  \n",
              "1                  7                        1                     7  \n",
              "2                  0                        0                     0  \n",
              "3                  7                        3                     0  \n",
              "4                  2                        2                     2  \n",
              "\n",
              "[5 rows x 35 columns]"
            ],
            "text/html": [
              "\n",
              "  <div id=\"df-ff55c1e4-acc7-441d-937f-0b2380951588\">\n",
              "    <div class=\"colab-df-container\">\n",
              "      <div>\n",
              "<style scoped>\n",
              "    .dataframe tbody tr th:only-of-type {\n",
              "        vertical-align: middle;\n",
              "    }\n",
              "\n",
              "    .dataframe tbody tr th {\n",
              "        vertical-align: top;\n",
              "    }\n",
              "\n",
              "    .dataframe thead th {\n",
              "        text-align: right;\n",
              "    }\n",
              "</style>\n",
              "<table border=\"1\" class=\"dataframe\">\n",
              "  <thead>\n",
              "    <tr style=\"text-align: right;\">\n",
              "      <th></th>\n",
              "      <th>Age</th>\n",
              "      <th>Attrition</th>\n",
              "      <th>BusinessTravel</th>\n",
              "      <th>DailyRate</th>\n",
              "      <th>Department</th>\n",
              "      <th>DistanceFromHome</th>\n",
              "      <th>Education</th>\n",
              "      <th>EducationField</th>\n",
              "      <th>EmployeeCount</th>\n",
              "      <th>EmployeeNumber</th>\n",
              "      <th>...</th>\n",
              "      <th>RelationshipSatisfaction</th>\n",
              "      <th>StandardHours</th>\n",
              "      <th>StockOptionLevel</th>\n",
              "      <th>TotalWorkingYears</th>\n",
              "      <th>TrainingTimesLastYear</th>\n",
              "      <th>WorkLifeBalance</th>\n",
              "      <th>YearsAtCompany</th>\n",
              "      <th>YearsInCurrentRole</th>\n",
              "      <th>YearsSinceLastPromotion</th>\n",
              "      <th>YearsWithCurrManager</th>\n",
              "    </tr>\n",
              "  </thead>\n",
              "  <tbody>\n",
              "    <tr>\n",
              "      <th>0</th>\n",
              "      <td>41</td>\n",
              "      <td>Yes</td>\n",
              "      <td>Travel_Rarely</td>\n",
              "      <td>1102</td>\n",
              "      <td>Sales</td>\n",
              "      <td>1</td>\n",
              "      <td>2</td>\n",
              "      <td>Life Sciences</td>\n",
              "      <td>1</td>\n",
              "      <td>1</td>\n",
              "      <td>...</td>\n",
              "      <td>1</td>\n",
              "      <td>80</td>\n",
              "      <td>0</td>\n",
              "      <td>8</td>\n",
              "      <td>0</td>\n",
              "      <td>1</td>\n",
              "      <td>6</td>\n",
              "      <td>4</td>\n",
              "      <td>0</td>\n",
              "      <td>5</td>\n",
              "    </tr>\n",
              "    <tr>\n",
              "      <th>1</th>\n",
              "      <td>49</td>\n",
              "      <td>No</td>\n",
              "      <td>Travel_Frequently</td>\n",
              "      <td>279</td>\n",
              "      <td>Research &amp; Development</td>\n",
              "      <td>8</td>\n",
              "      <td>1</td>\n",
              "      <td>Life Sciences</td>\n",
              "      <td>1</td>\n",
              "      <td>2</td>\n",
              "      <td>...</td>\n",
              "      <td>4</td>\n",
              "      <td>80</td>\n",
              "      <td>1</td>\n",
              "      <td>10</td>\n",
              "      <td>3</td>\n",
              "      <td>3</td>\n",
              "      <td>10</td>\n",
              "      <td>7</td>\n",
              "      <td>1</td>\n",
              "      <td>7</td>\n",
              "    </tr>\n",
              "    <tr>\n",
              "      <th>2</th>\n",
              "      <td>37</td>\n",
              "      <td>Yes</td>\n",
              "      <td>Travel_Rarely</td>\n",
              "      <td>1373</td>\n",
              "      <td>Research &amp; Development</td>\n",
              "      <td>2</td>\n",
              "      <td>2</td>\n",
              "      <td>Other</td>\n",
              "      <td>1</td>\n",
              "      <td>4</td>\n",
              "      <td>...</td>\n",
              "      <td>2</td>\n",
              "      <td>80</td>\n",
              "      <td>0</td>\n",
              "      <td>7</td>\n",
              "      <td>3</td>\n",
              "      <td>3</td>\n",
              "      <td>0</td>\n",
              "      <td>0</td>\n",
              "      <td>0</td>\n",
              "      <td>0</td>\n",
              "    </tr>\n",
              "    <tr>\n",
              "      <th>3</th>\n",
              "      <td>33</td>\n",
              "      <td>No</td>\n",
              "      <td>Travel_Frequently</td>\n",
              "      <td>1392</td>\n",
              "      <td>Research &amp; Development</td>\n",
              "      <td>3</td>\n",
              "      <td>4</td>\n",
              "      <td>Life Sciences</td>\n",
              "      <td>1</td>\n",
              "      <td>5</td>\n",
              "      <td>...</td>\n",
              "      <td>3</td>\n",
              "      <td>80</td>\n",
              "      <td>0</td>\n",
              "      <td>8</td>\n",
              "      <td>3</td>\n",
              "      <td>3</td>\n",
              "      <td>8</td>\n",
              "      <td>7</td>\n",
              "      <td>3</td>\n",
              "      <td>0</td>\n",
              "    </tr>\n",
              "    <tr>\n",
              "      <th>4</th>\n",
              "      <td>27</td>\n",
              "      <td>No</td>\n",
              "      <td>Travel_Rarely</td>\n",
              "      <td>591</td>\n",
              "      <td>Research &amp; Development</td>\n",
              "      <td>2</td>\n",
              "      <td>1</td>\n",
              "      <td>Medical</td>\n",
              "      <td>1</td>\n",
              "      <td>7</td>\n",
              "      <td>...</td>\n",
              "      <td>4</td>\n",
              "      <td>80</td>\n",
              "      <td>1</td>\n",
              "      <td>6</td>\n",
              "      <td>3</td>\n",
              "      <td>3</td>\n",
              "      <td>2</td>\n",
              "      <td>2</td>\n",
              "      <td>2</td>\n",
              "      <td>2</td>\n",
              "    </tr>\n",
              "  </tbody>\n",
              "</table>\n",
              "<p>5 rows × 35 columns</p>\n",
              "</div>\n",
              "      <button class=\"colab-df-convert\" onclick=\"convertToInteractive('df-ff55c1e4-acc7-441d-937f-0b2380951588')\"\n",
              "              title=\"Convert this dataframe to an interactive table.\"\n",
              "              style=\"display:none;\">\n",
              "        \n",
              "  <svg xmlns=\"http://www.w3.org/2000/svg\" height=\"24px\"viewBox=\"0 0 24 24\"\n",
              "       width=\"24px\">\n",
              "    <path d=\"M0 0h24v24H0V0z\" fill=\"none\"/>\n",
              "    <path d=\"M18.56 5.44l.94 2.06.94-2.06 2.06-.94-2.06-.94-.94-2.06-.94 2.06-2.06.94zm-11 1L8.5 8.5l.94-2.06 2.06-.94-2.06-.94L8.5 2.5l-.94 2.06-2.06.94zm10 10l.94 2.06.94-2.06 2.06-.94-2.06-.94-.94-2.06-.94 2.06-2.06.94z\"/><path d=\"M17.41 7.96l-1.37-1.37c-.4-.4-.92-.59-1.43-.59-.52 0-1.04.2-1.43.59L10.3 9.45l-7.72 7.72c-.78.78-.78 2.05 0 2.83L4 21.41c.39.39.9.59 1.41.59.51 0 1.02-.2 1.41-.59l7.78-7.78 2.81-2.81c.8-.78.8-2.07 0-2.86zM5.41 20L4 18.59l7.72-7.72 1.47 1.35L5.41 20z\"/>\n",
              "  </svg>\n",
              "      </button>\n",
              "      \n",
              "  <style>\n",
              "    .colab-df-container {\n",
              "      display:flex;\n",
              "      flex-wrap:wrap;\n",
              "      gap: 12px;\n",
              "    }\n",
              "\n",
              "    .colab-df-convert {\n",
              "      background-color: #E8F0FE;\n",
              "      border: none;\n",
              "      border-radius: 50%;\n",
              "      cursor: pointer;\n",
              "      display: none;\n",
              "      fill: #1967D2;\n",
              "      height: 32px;\n",
              "      padding: 0 0 0 0;\n",
              "      width: 32px;\n",
              "    }\n",
              "\n",
              "    .colab-df-convert:hover {\n",
              "      background-color: #E2EBFA;\n",
              "      box-shadow: 0px 1px 2px rgba(60, 64, 67, 0.3), 0px 1px 3px 1px rgba(60, 64, 67, 0.15);\n",
              "      fill: #174EA6;\n",
              "    }\n",
              "\n",
              "    [theme=dark] .colab-df-convert {\n",
              "      background-color: #3B4455;\n",
              "      fill: #D2E3FC;\n",
              "    }\n",
              "\n",
              "    [theme=dark] .colab-df-convert:hover {\n",
              "      background-color: #434B5C;\n",
              "      box-shadow: 0px 1px 3px 1px rgba(0, 0, 0, 0.15);\n",
              "      filter: drop-shadow(0px 1px 2px rgba(0, 0, 0, 0.3));\n",
              "      fill: #FFFFFF;\n",
              "    }\n",
              "  </style>\n",
              "\n",
              "      <script>\n",
              "        const buttonEl =\n",
              "          document.querySelector('#df-ff55c1e4-acc7-441d-937f-0b2380951588 button.colab-df-convert');\n",
              "        buttonEl.style.display =\n",
              "          google.colab.kernel.accessAllowed ? 'block' : 'none';\n",
              "\n",
              "        async function convertToInteractive(key) {\n",
              "          const element = document.querySelector('#df-ff55c1e4-acc7-441d-937f-0b2380951588');\n",
              "          const dataTable =\n",
              "            await google.colab.kernel.invokeFunction('convertToInteractive',\n",
              "                                                     [key], {});\n",
              "          if (!dataTable) return;\n",
              "\n",
              "          const docLinkHtml = 'Like what you see? Visit the ' +\n",
              "            '<a target=\"_blank\" href=https://colab.research.google.com/notebooks/data_table.ipynb>data table notebook</a>'\n",
              "            + ' to learn more about interactive tables.';\n",
              "          element.innerHTML = '';\n",
              "          dataTable['output_type'] = 'display_data';\n",
              "          await google.colab.output.renderOutput(dataTable, element);\n",
              "          const docLink = document.createElement('div');\n",
              "          docLink.innerHTML = docLinkHtml;\n",
              "          element.appendChild(docLink);\n",
              "        }\n",
              "      </script>\n",
              "    </div>\n",
              "  </div>\n",
              "  "
            ]
          },
          "metadata": {},
          "execution_count": 81
        }
      ]
    },
    {
      "cell_type": "markdown",
      "source": [
        "small description of the dataset"
      ],
      "metadata": {
        "id": "g1jrq25poqh8"
      }
    },
    {
      "cell_type": "markdown",
      "source": [
        " Education  1 'Below College' 2 'College' 3 'Bachelor' 4 'Master' 5 'Doctor'"
      ],
      "metadata": {
        "id": "gz_57BCsTYYb"
      }
    },
    {
      "cell_type": "markdown",
      "source": [
        "EnvironmentSatisfaction 1 'Low' 2 'Medium' 3 'High' 4 'Very High'"
      ],
      "metadata": {
        "id": "b7Eq-kQ-TZox"
      }
    },
    {
      "cell_type": "markdown",
      "source": [
        "JobInvolvement\n",
        "1 'Low' 2 'Medium' 3 'High' 4 'Very High'"
      ],
      "metadata": {
        "id": "tx6LQQ8qTcM2"
      }
    },
    {
      "cell_type": "markdown",
      "source": [
        "JobSatisfaction\n",
        "1 'Low' 2 'Medium' 3 'High' 4 'Very High'"
      ],
      "metadata": {
        "id": "iR2F1zjLTsKW"
      }
    },
    {
      "cell_type": "markdown",
      "source": [
        "PerformanceRating\n",
        "1 'Low' 2 'Good' 3 'Excellent' 4 'Outstanding'"
      ],
      "metadata": {
        "id": "EOUNapVCT8MT"
      }
    },
    {
      "cell_type": "markdown",
      "source": [
        "RelationshipSatisfaction\n",
        "1 'Low' 2 'Medium' 3 'High' 4 'Very High'"
      ],
      "metadata": {
        "id": "Nmq-tJEaTsny"
      }
    },
    {
      "cell_type": "markdown",
      "source": [
        "WorkLifeBalance\n",
        "1 'Bad' 2 'Good' 3 'Better' 4 'Best'"
      ],
      "metadata": {
        "id": "TIWLAOgeUA0P"
      }
    },
    {
      "cell_type": "markdown",
      "source": [
        "displaying the shape of the dataset"
      ],
      "metadata": {
        "id": "MScvsfRQovwF"
      }
    },
    {
      "cell_type": "code",
      "source": [
        "data.shape"
      ],
      "metadata": {
        "colab": {
          "base_uri": "https://localhost:8080/"
        },
        "id": "vmeuPRZyTLmw",
        "outputId": "14bccbb7-31bc-4855-8823-e044ed5ee6ba"
      },
      "execution_count": 82,
      "outputs": [
        {
          "output_type": "execute_result",
          "data": {
            "text/plain": [
              "(1470, 35)"
            ]
          },
          "metadata": {},
          "execution_count": 82
        }
      ]
    },
    {
      "cell_type": "markdown",
      "source": [
        "displaying all the columns present in the dataset"
      ],
      "metadata": {
        "id": "Px8MkcgIoysf"
      }
    },
    {
      "cell_type": "code",
      "source": [
        "data.columns"
      ],
      "metadata": {
        "colab": {
          "base_uri": "https://localhost:8080/"
        },
        "id": "sIbJMLZHTI18",
        "outputId": "f42f77ac-e689-41c8-abe1-133211fac789"
      },
      "execution_count": 83,
      "outputs": [
        {
          "output_type": "execute_result",
          "data": {
            "text/plain": [
              "Index(['Age', 'Attrition', 'BusinessTravel', 'DailyRate', 'Department',\n",
              "       'DistanceFromHome', 'Education', 'EducationField', 'EmployeeCount',\n",
              "       'EmployeeNumber', 'EnvironmentSatisfaction', 'Gender', 'HourlyRate',\n",
              "       'JobInvolvement', 'JobLevel', 'JobRole', 'JobSatisfaction',\n",
              "       'MaritalStatus', 'MonthlyIncome', 'MonthlyRate', 'NumCompaniesWorked',\n",
              "       'Over18', 'OverTime', 'PercentSalaryHike', 'PerformanceRating',\n",
              "       'RelationshipSatisfaction', 'StandardHours', 'StockOptionLevel',\n",
              "       'TotalWorkingYears', 'TrainingTimesLastYear', 'WorkLifeBalance',\n",
              "       'YearsAtCompany', 'YearsInCurrentRole', 'YearsSinceLastPromotion',\n",
              "       'YearsWithCurrManager'],\n",
              "      dtype='object')"
            ]
          },
          "metadata": {},
          "execution_count": 83
        }
      ]
    },
    {
      "cell_type": "markdown",
      "source": [
        "mapping the'Attrition' column with 1 and 0 where  1 --> Yes and 0--> No"
      ],
      "metadata": {
        "id": "y3qMWuaqo1-N"
      }
    },
    {
      "cell_type": "code",
      "source": [
        "data['Attrition']=data['Attrition'].map({'Yes':1,'No':0})"
      ],
      "metadata": {
        "id": "O1KLzZhQTKca"
      },
      "execution_count": 84,
      "outputs": []
    },
    {
      "cell_type": "code",
      "source": [
        "data.head()"
      ],
      "metadata": {
        "colab": {
          "base_uri": "https://localhost:8080/",
          "height": 369
        },
        "id": "DPayS4usU6Vk",
        "outputId": "90e40c69-58db-4ef4-9114-8b2c82da972f"
      },
      "execution_count": 85,
      "outputs": [
        {
          "output_type": "execute_result",
          "data": {
            "text/plain": [
              "   Age  Attrition     BusinessTravel  DailyRate              Department  \\\n",
              "0   41          1      Travel_Rarely       1102                   Sales   \n",
              "1   49          0  Travel_Frequently        279  Research & Development   \n",
              "2   37          1      Travel_Rarely       1373  Research & Development   \n",
              "3   33          0  Travel_Frequently       1392  Research & Development   \n",
              "4   27          0      Travel_Rarely        591  Research & Development   \n",
              "\n",
              "   DistanceFromHome  Education EducationField  EmployeeCount  EmployeeNumber  \\\n",
              "0                 1          2  Life Sciences              1               1   \n",
              "1                 8          1  Life Sciences              1               2   \n",
              "2                 2          2          Other              1               4   \n",
              "3                 3          4  Life Sciences              1               5   \n",
              "4                 2          1        Medical              1               7   \n",
              "\n",
              "   ...  RelationshipSatisfaction StandardHours  StockOptionLevel  \\\n",
              "0  ...                         1            80                 0   \n",
              "1  ...                         4            80                 1   \n",
              "2  ...                         2            80                 0   \n",
              "3  ...                         3            80                 0   \n",
              "4  ...                         4            80                 1   \n",
              "\n",
              "   TotalWorkingYears  TrainingTimesLastYear WorkLifeBalance  YearsAtCompany  \\\n",
              "0                  8                      0               1               6   \n",
              "1                 10                      3               3              10   \n",
              "2                  7                      3               3               0   \n",
              "3                  8                      3               3               8   \n",
              "4                  6                      3               3               2   \n",
              "\n",
              "  YearsInCurrentRole  YearsSinceLastPromotion  YearsWithCurrManager  \n",
              "0                  4                        0                     5  \n",
              "1                  7                        1                     7  \n",
              "2                  0                        0                     0  \n",
              "3                  7                        3                     0  \n",
              "4                  2                        2                     2  \n",
              "\n",
              "[5 rows x 35 columns]"
            ],
            "text/html": [
              "\n",
              "  <div id=\"df-3c44dbb8-4c77-45ce-a54b-27eda89fc910\">\n",
              "    <div class=\"colab-df-container\">\n",
              "      <div>\n",
              "<style scoped>\n",
              "    .dataframe tbody tr th:only-of-type {\n",
              "        vertical-align: middle;\n",
              "    }\n",
              "\n",
              "    .dataframe tbody tr th {\n",
              "        vertical-align: top;\n",
              "    }\n",
              "\n",
              "    .dataframe thead th {\n",
              "        text-align: right;\n",
              "    }\n",
              "</style>\n",
              "<table border=\"1\" class=\"dataframe\">\n",
              "  <thead>\n",
              "    <tr style=\"text-align: right;\">\n",
              "      <th></th>\n",
              "      <th>Age</th>\n",
              "      <th>Attrition</th>\n",
              "      <th>BusinessTravel</th>\n",
              "      <th>DailyRate</th>\n",
              "      <th>Department</th>\n",
              "      <th>DistanceFromHome</th>\n",
              "      <th>Education</th>\n",
              "      <th>EducationField</th>\n",
              "      <th>EmployeeCount</th>\n",
              "      <th>EmployeeNumber</th>\n",
              "      <th>...</th>\n",
              "      <th>RelationshipSatisfaction</th>\n",
              "      <th>StandardHours</th>\n",
              "      <th>StockOptionLevel</th>\n",
              "      <th>TotalWorkingYears</th>\n",
              "      <th>TrainingTimesLastYear</th>\n",
              "      <th>WorkLifeBalance</th>\n",
              "      <th>YearsAtCompany</th>\n",
              "      <th>YearsInCurrentRole</th>\n",
              "      <th>YearsSinceLastPromotion</th>\n",
              "      <th>YearsWithCurrManager</th>\n",
              "    </tr>\n",
              "  </thead>\n",
              "  <tbody>\n",
              "    <tr>\n",
              "      <th>0</th>\n",
              "      <td>41</td>\n",
              "      <td>1</td>\n",
              "      <td>Travel_Rarely</td>\n",
              "      <td>1102</td>\n",
              "      <td>Sales</td>\n",
              "      <td>1</td>\n",
              "      <td>2</td>\n",
              "      <td>Life Sciences</td>\n",
              "      <td>1</td>\n",
              "      <td>1</td>\n",
              "      <td>...</td>\n",
              "      <td>1</td>\n",
              "      <td>80</td>\n",
              "      <td>0</td>\n",
              "      <td>8</td>\n",
              "      <td>0</td>\n",
              "      <td>1</td>\n",
              "      <td>6</td>\n",
              "      <td>4</td>\n",
              "      <td>0</td>\n",
              "      <td>5</td>\n",
              "    </tr>\n",
              "    <tr>\n",
              "      <th>1</th>\n",
              "      <td>49</td>\n",
              "      <td>0</td>\n",
              "      <td>Travel_Frequently</td>\n",
              "      <td>279</td>\n",
              "      <td>Research &amp; Development</td>\n",
              "      <td>8</td>\n",
              "      <td>1</td>\n",
              "      <td>Life Sciences</td>\n",
              "      <td>1</td>\n",
              "      <td>2</td>\n",
              "      <td>...</td>\n",
              "      <td>4</td>\n",
              "      <td>80</td>\n",
              "      <td>1</td>\n",
              "      <td>10</td>\n",
              "      <td>3</td>\n",
              "      <td>3</td>\n",
              "      <td>10</td>\n",
              "      <td>7</td>\n",
              "      <td>1</td>\n",
              "      <td>7</td>\n",
              "    </tr>\n",
              "    <tr>\n",
              "      <th>2</th>\n",
              "      <td>37</td>\n",
              "      <td>1</td>\n",
              "      <td>Travel_Rarely</td>\n",
              "      <td>1373</td>\n",
              "      <td>Research &amp; Development</td>\n",
              "      <td>2</td>\n",
              "      <td>2</td>\n",
              "      <td>Other</td>\n",
              "      <td>1</td>\n",
              "      <td>4</td>\n",
              "      <td>...</td>\n",
              "      <td>2</td>\n",
              "      <td>80</td>\n",
              "      <td>0</td>\n",
              "      <td>7</td>\n",
              "      <td>3</td>\n",
              "      <td>3</td>\n",
              "      <td>0</td>\n",
              "      <td>0</td>\n",
              "      <td>0</td>\n",
              "      <td>0</td>\n",
              "    </tr>\n",
              "    <tr>\n",
              "      <th>3</th>\n",
              "      <td>33</td>\n",
              "      <td>0</td>\n",
              "      <td>Travel_Frequently</td>\n",
              "      <td>1392</td>\n",
              "      <td>Research &amp; Development</td>\n",
              "      <td>3</td>\n",
              "      <td>4</td>\n",
              "      <td>Life Sciences</td>\n",
              "      <td>1</td>\n",
              "      <td>5</td>\n",
              "      <td>...</td>\n",
              "      <td>3</td>\n",
              "      <td>80</td>\n",
              "      <td>0</td>\n",
              "      <td>8</td>\n",
              "      <td>3</td>\n",
              "      <td>3</td>\n",
              "      <td>8</td>\n",
              "      <td>7</td>\n",
              "      <td>3</td>\n",
              "      <td>0</td>\n",
              "    </tr>\n",
              "    <tr>\n",
              "      <th>4</th>\n",
              "      <td>27</td>\n",
              "      <td>0</td>\n",
              "      <td>Travel_Rarely</td>\n",
              "      <td>591</td>\n",
              "      <td>Research &amp; Development</td>\n",
              "      <td>2</td>\n",
              "      <td>1</td>\n",
              "      <td>Medical</td>\n",
              "      <td>1</td>\n",
              "      <td>7</td>\n",
              "      <td>...</td>\n",
              "      <td>4</td>\n",
              "      <td>80</td>\n",
              "      <td>1</td>\n",
              "      <td>6</td>\n",
              "      <td>3</td>\n",
              "      <td>3</td>\n",
              "      <td>2</td>\n",
              "      <td>2</td>\n",
              "      <td>2</td>\n",
              "      <td>2</td>\n",
              "    </tr>\n",
              "  </tbody>\n",
              "</table>\n",
              "<p>5 rows × 35 columns</p>\n",
              "</div>\n",
              "      <button class=\"colab-df-convert\" onclick=\"convertToInteractive('df-3c44dbb8-4c77-45ce-a54b-27eda89fc910')\"\n",
              "              title=\"Convert this dataframe to an interactive table.\"\n",
              "              style=\"display:none;\">\n",
              "        \n",
              "  <svg xmlns=\"http://www.w3.org/2000/svg\" height=\"24px\"viewBox=\"0 0 24 24\"\n",
              "       width=\"24px\">\n",
              "    <path d=\"M0 0h24v24H0V0z\" fill=\"none\"/>\n",
              "    <path d=\"M18.56 5.44l.94 2.06.94-2.06 2.06-.94-2.06-.94-.94-2.06-.94 2.06-2.06.94zm-11 1L8.5 8.5l.94-2.06 2.06-.94-2.06-.94L8.5 2.5l-.94 2.06-2.06.94zm10 10l.94 2.06.94-2.06 2.06-.94-2.06-.94-.94-2.06-.94 2.06-2.06.94z\"/><path d=\"M17.41 7.96l-1.37-1.37c-.4-.4-.92-.59-1.43-.59-.52 0-1.04.2-1.43.59L10.3 9.45l-7.72 7.72c-.78.78-.78 2.05 0 2.83L4 21.41c.39.39.9.59 1.41.59.51 0 1.02-.2 1.41-.59l7.78-7.78 2.81-2.81c.8-.78.8-2.07 0-2.86zM5.41 20L4 18.59l7.72-7.72 1.47 1.35L5.41 20z\"/>\n",
              "  </svg>\n",
              "      </button>\n",
              "      \n",
              "  <style>\n",
              "    .colab-df-container {\n",
              "      display:flex;\n",
              "      flex-wrap:wrap;\n",
              "      gap: 12px;\n",
              "    }\n",
              "\n",
              "    .colab-df-convert {\n",
              "      background-color: #E8F0FE;\n",
              "      border: none;\n",
              "      border-radius: 50%;\n",
              "      cursor: pointer;\n",
              "      display: none;\n",
              "      fill: #1967D2;\n",
              "      height: 32px;\n",
              "      padding: 0 0 0 0;\n",
              "      width: 32px;\n",
              "    }\n",
              "\n",
              "    .colab-df-convert:hover {\n",
              "      background-color: #E2EBFA;\n",
              "      box-shadow: 0px 1px 2px rgba(60, 64, 67, 0.3), 0px 1px 3px 1px rgba(60, 64, 67, 0.15);\n",
              "      fill: #174EA6;\n",
              "    }\n",
              "\n",
              "    [theme=dark] .colab-df-convert {\n",
              "      background-color: #3B4455;\n",
              "      fill: #D2E3FC;\n",
              "    }\n",
              "\n",
              "    [theme=dark] .colab-df-convert:hover {\n",
              "      background-color: #434B5C;\n",
              "      box-shadow: 0px 1px 3px 1px rgba(0, 0, 0, 0.15);\n",
              "      filter: drop-shadow(0px 1px 2px rgba(0, 0, 0, 0.3));\n",
              "      fill: #FFFFFF;\n",
              "    }\n",
              "  </style>\n",
              "\n",
              "      <script>\n",
              "        const buttonEl =\n",
              "          document.querySelector('#df-3c44dbb8-4c77-45ce-a54b-27eda89fc910 button.colab-df-convert');\n",
              "        buttonEl.style.display =\n",
              "          google.colab.kernel.accessAllowed ? 'block' : 'none';\n",
              "\n",
              "        async function convertToInteractive(key) {\n",
              "          const element = document.querySelector('#df-3c44dbb8-4c77-45ce-a54b-27eda89fc910');\n",
              "          const dataTable =\n",
              "            await google.colab.kernel.invokeFunction('convertToInteractive',\n",
              "                                                     [key], {});\n",
              "          if (!dataTable) return;\n",
              "\n",
              "          const docLinkHtml = 'Like what you see? Visit the ' +\n",
              "            '<a target=\"_blank\" href=https://colab.research.google.com/notebooks/data_table.ipynb>data table notebook</a>'\n",
              "            + ' to learn more about interactive tables.';\n",
              "          element.innerHTML = '';\n",
              "          dataTable['output_type'] = 'display_data';\n",
              "          await google.colab.output.renderOutput(dataTable, element);\n",
              "          const docLink = document.createElement('div');\n",
              "          docLink.innerHTML = docLinkHtml;\n",
              "          element.appendChild(docLink);\n",
              "        }\n",
              "      </script>\n",
              "    </div>\n",
              "  </div>\n",
              "  "
            ]
          },
          "metadata": {},
          "execution_count": 85
        }
      ]
    },
    {
      "cell_type": "markdown",
      "source": [
        "displaying all the informaton of the data"
      ],
      "metadata": {
        "id": "TzfcjJeHo_3m"
      }
    },
    {
      "cell_type": "code",
      "source": [
        "data.info()"
      ],
      "metadata": {
        "colab": {
          "base_uri": "https://localhost:8080/"
        },
        "id": "gc8wtNgSU7rB",
        "outputId": "c6e5959c-727e-416b-8ba3-292593ed26b0"
      },
      "execution_count": 86,
      "outputs": [
        {
          "output_type": "stream",
          "name": "stdout",
          "text": [
            "<class 'pandas.core.frame.DataFrame'>\n",
            "RangeIndex: 1470 entries, 0 to 1469\n",
            "Data columns (total 35 columns):\n",
            " #   Column                    Non-Null Count  Dtype \n",
            "---  ------                    --------------  ----- \n",
            " 0   Age                       1470 non-null   int64 \n",
            " 1   Attrition                 1470 non-null   int64 \n",
            " 2   BusinessTravel            1470 non-null   object\n",
            " 3   DailyRate                 1470 non-null   int64 \n",
            " 4   Department                1470 non-null   object\n",
            " 5   DistanceFromHome          1470 non-null   int64 \n",
            " 6   Education                 1470 non-null   int64 \n",
            " 7   EducationField            1470 non-null   object\n",
            " 8   EmployeeCount             1470 non-null   int64 \n",
            " 9   EmployeeNumber            1470 non-null   int64 \n",
            " 10  EnvironmentSatisfaction   1470 non-null   int64 \n",
            " 11  Gender                    1470 non-null   object\n",
            " 12  HourlyRate                1470 non-null   int64 \n",
            " 13  JobInvolvement            1470 non-null   int64 \n",
            " 14  JobLevel                  1470 non-null   int64 \n",
            " 15  JobRole                   1470 non-null   object\n",
            " 16  JobSatisfaction           1470 non-null   int64 \n",
            " 17  MaritalStatus             1470 non-null   object\n",
            " 18  MonthlyIncome             1470 non-null   int64 \n",
            " 19  MonthlyRate               1470 non-null   int64 \n",
            " 20  NumCompaniesWorked        1470 non-null   int64 \n",
            " 21  Over18                    1470 non-null   object\n",
            " 22  OverTime                  1470 non-null   object\n",
            " 23  PercentSalaryHike         1470 non-null   int64 \n",
            " 24  PerformanceRating         1470 non-null   int64 \n",
            " 25  RelationshipSatisfaction  1470 non-null   int64 \n",
            " 26  StandardHours             1470 non-null   int64 \n",
            " 27  StockOptionLevel          1470 non-null   int64 \n",
            " 28  TotalWorkingYears         1470 non-null   int64 \n",
            " 29  TrainingTimesLastYear     1470 non-null   int64 \n",
            " 30  WorkLifeBalance           1470 non-null   int64 \n",
            " 31  YearsAtCompany            1470 non-null   int64 \n",
            " 32  YearsInCurrentRole        1470 non-null   int64 \n",
            " 33  YearsSinceLastPromotion   1470 non-null   int64 \n",
            " 34  YearsWithCurrManager      1470 non-null   int64 \n",
            "dtypes: int64(27), object(8)\n",
            "memory usage: 402.1+ KB\n"
          ]
        }
      ]
    },
    {
      "cell_type": "markdown",
      "source": [
        "checking if the data contains and null value. If yes lets drop that null value"
      ],
      "metadata": {
        "id": "mgK_mhY-pEGf"
      }
    },
    {
      "cell_type": "code",
      "source": [
        "data.isnull().sum()"
      ],
      "metadata": {
        "colab": {
          "base_uri": "https://localhost:8080/"
        },
        "id": "G152sgQbVEGD",
        "outputId": "b7a0bfb7-8536-4570-c00f-4e72f5813732"
      },
      "execution_count": 87,
      "outputs": [
        {
          "output_type": "execute_result",
          "data": {
            "text/plain": [
              "Age                         0\n",
              "Attrition                   0\n",
              "BusinessTravel              0\n",
              "DailyRate                   0\n",
              "Department                  0\n",
              "DistanceFromHome            0\n",
              "Education                   0\n",
              "EducationField              0\n",
              "EmployeeCount               0\n",
              "EmployeeNumber              0\n",
              "EnvironmentSatisfaction     0\n",
              "Gender                      0\n",
              "HourlyRate                  0\n",
              "JobInvolvement              0\n",
              "JobLevel                    0\n",
              "JobRole                     0\n",
              "JobSatisfaction             0\n",
              "MaritalStatus               0\n",
              "MonthlyIncome               0\n",
              "MonthlyRate                 0\n",
              "NumCompaniesWorked          0\n",
              "Over18                      0\n",
              "OverTime                    0\n",
              "PercentSalaryHike           0\n",
              "PerformanceRating           0\n",
              "RelationshipSatisfaction    0\n",
              "StandardHours               0\n",
              "StockOptionLevel            0\n",
              "TotalWorkingYears           0\n",
              "TrainingTimesLastYear       0\n",
              "WorkLifeBalance             0\n",
              "YearsAtCompany              0\n",
              "YearsInCurrentRole          0\n",
              "YearsSinceLastPromotion     0\n",
              "YearsWithCurrManager        0\n",
              "dtype: int64"
            ]
          },
          "metadata": {},
          "execution_count": 87
        }
      ]
    },
    {
      "cell_type": "markdown",
      "source": [
        "lets check if the data contains any duplicated value. If yes then lets drop it"
      ],
      "metadata": {
        "id": "UccwT-vipJUo"
      }
    },
    {
      "cell_type": "code",
      "source": [
        "data.duplicated().sum()"
      ],
      "metadata": {
        "colab": {
          "base_uri": "https://localhost:8080/"
        },
        "id": "eyzaDUx2VGiW",
        "outputId": "3ebc669f-5a8e-41a0-cea6-be3fbc5cf12d"
      },
      "execution_count": 88,
      "outputs": [
        {
          "output_type": "execute_result",
          "data": {
            "text/plain": [
              "0"
            ]
          },
          "metadata": {},
          "execution_count": 88
        }
      ]
    },
    {
      "cell_type": "markdown",
      "source": [
        "displaying then description of the numerical columns of the dataset"
      ],
      "metadata": {
        "id": "xgsSATYjpOqu"
      }
    },
    {
      "cell_type": "code",
      "source": [
        "data.describe()"
      ],
      "metadata": {
        "colab": {
          "base_uri": "https://localhost:8080/",
          "height": 393
        },
        "id": "NIC1hnwIVIj6",
        "outputId": "3db589b1-1e19-4aaa-be66-ffd1ee182387"
      },
      "execution_count": 89,
      "outputs": [
        {
          "output_type": "execute_result",
          "data": {
            "text/plain": [
              "               Age    Attrition    DailyRate  DistanceFromHome    Education  \\\n",
              "count  1470.000000  1470.000000  1470.000000       1470.000000  1470.000000   \n",
              "mean     36.923810     0.161224   802.485714          9.192517     2.912925   \n",
              "std       9.135373     0.367863   403.509100          8.106864     1.024165   \n",
              "min      18.000000     0.000000   102.000000          1.000000     1.000000   \n",
              "25%      30.000000     0.000000   465.000000          2.000000     2.000000   \n",
              "50%      36.000000     0.000000   802.000000          7.000000     3.000000   \n",
              "75%      43.000000     0.000000  1157.000000         14.000000     4.000000   \n",
              "max      60.000000     1.000000  1499.000000         29.000000     5.000000   \n",
              "\n",
              "       EmployeeCount  EmployeeNumber  EnvironmentSatisfaction   HourlyRate  \\\n",
              "count         1470.0     1470.000000              1470.000000  1470.000000   \n",
              "mean             1.0     1024.865306                 2.721769    65.891156   \n",
              "std              0.0      602.024335                 1.093082    20.329428   \n",
              "min              1.0        1.000000                 1.000000    30.000000   \n",
              "25%              1.0      491.250000                 2.000000    48.000000   \n",
              "50%              1.0     1020.500000                 3.000000    66.000000   \n",
              "75%              1.0     1555.750000                 4.000000    83.750000   \n",
              "max              1.0     2068.000000                 4.000000   100.000000   \n",
              "\n",
              "       JobInvolvement  ...  RelationshipSatisfaction  StandardHours  \\\n",
              "count     1470.000000  ...               1470.000000         1470.0   \n",
              "mean         2.729932  ...                  2.712245           80.0   \n",
              "std          0.711561  ...                  1.081209            0.0   \n",
              "min          1.000000  ...                  1.000000           80.0   \n",
              "25%          2.000000  ...                  2.000000           80.0   \n",
              "50%          3.000000  ...                  3.000000           80.0   \n",
              "75%          3.000000  ...                  4.000000           80.0   \n",
              "max          4.000000  ...                  4.000000           80.0   \n",
              "\n",
              "       StockOptionLevel  TotalWorkingYears  TrainingTimesLastYear  \\\n",
              "count       1470.000000        1470.000000            1470.000000   \n",
              "mean           0.793878          11.279592               2.799320   \n",
              "std            0.852077           7.780782               1.289271   \n",
              "min            0.000000           0.000000               0.000000   \n",
              "25%            0.000000           6.000000               2.000000   \n",
              "50%            1.000000          10.000000               3.000000   \n",
              "75%            1.000000          15.000000               3.000000   \n",
              "max            3.000000          40.000000               6.000000   \n",
              "\n",
              "       WorkLifeBalance  YearsAtCompany  YearsInCurrentRole  \\\n",
              "count      1470.000000     1470.000000         1470.000000   \n",
              "mean          2.761224        7.008163            4.229252   \n",
              "std           0.706476        6.126525            3.623137   \n",
              "min           1.000000        0.000000            0.000000   \n",
              "25%           2.000000        3.000000            2.000000   \n",
              "50%           3.000000        5.000000            3.000000   \n",
              "75%           3.000000        9.000000            7.000000   \n",
              "max           4.000000       40.000000           18.000000   \n",
              "\n",
              "       YearsSinceLastPromotion  YearsWithCurrManager  \n",
              "count              1470.000000           1470.000000  \n",
              "mean                  2.187755              4.123129  \n",
              "std                   3.222430              3.568136  \n",
              "min                   0.000000              0.000000  \n",
              "25%                   0.000000              2.000000  \n",
              "50%                   1.000000              3.000000  \n",
              "75%                   3.000000              7.000000  \n",
              "max                  15.000000             17.000000  \n",
              "\n",
              "[8 rows x 27 columns]"
            ],
            "text/html": [
              "\n",
              "  <div id=\"df-77544649-bee2-49c7-92c6-ebe46e20545f\">\n",
              "    <div class=\"colab-df-container\">\n",
              "      <div>\n",
              "<style scoped>\n",
              "    .dataframe tbody tr th:only-of-type {\n",
              "        vertical-align: middle;\n",
              "    }\n",
              "\n",
              "    .dataframe tbody tr th {\n",
              "        vertical-align: top;\n",
              "    }\n",
              "\n",
              "    .dataframe thead th {\n",
              "        text-align: right;\n",
              "    }\n",
              "</style>\n",
              "<table border=\"1\" class=\"dataframe\">\n",
              "  <thead>\n",
              "    <tr style=\"text-align: right;\">\n",
              "      <th></th>\n",
              "      <th>Age</th>\n",
              "      <th>Attrition</th>\n",
              "      <th>DailyRate</th>\n",
              "      <th>DistanceFromHome</th>\n",
              "      <th>Education</th>\n",
              "      <th>EmployeeCount</th>\n",
              "      <th>EmployeeNumber</th>\n",
              "      <th>EnvironmentSatisfaction</th>\n",
              "      <th>HourlyRate</th>\n",
              "      <th>JobInvolvement</th>\n",
              "      <th>...</th>\n",
              "      <th>RelationshipSatisfaction</th>\n",
              "      <th>StandardHours</th>\n",
              "      <th>StockOptionLevel</th>\n",
              "      <th>TotalWorkingYears</th>\n",
              "      <th>TrainingTimesLastYear</th>\n",
              "      <th>WorkLifeBalance</th>\n",
              "      <th>YearsAtCompany</th>\n",
              "      <th>YearsInCurrentRole</th>\n",
              "      <th>YearsSinceLastPromotion</th>\n",
              "      <th>YearsWithCurrManager</th>\n",
              "    </tr>\n",
              "  </thead>\n",
              "  <tbody>\n",
              "    <tr>\n",
              "      <th>count</th>\n",
              "      <td>1470.000000</td>\n",
              "      <td>1470.000000</td>\n",
              "      <td>1470.000000</td>\n",
              "      <td>1470.000000</td>\n",
              "      <td>1470.000000</td>\n",
              "      <td>1470.0</td>\n",
              "      <td>1470.000000</td>\n",
              "      <td>1470.000000</td>\n",
              "      <td>1470.000000</td>\n",
              "      <td>1470.000000</td>\n",
              "      <td>...</td>\n",
              "      <td>1470.000000</td>\n",
              "      <td>1470.0</td>\n",
              "      <td>1470.000000</td>\n",
              "      <td>1470.000000</td>\n",
              "      <td>1470.000000</td>\n",
              "      <td>1470.000000</td>\n",
              "      <td>1470.000000</td>\n",
              "      <td>1470.000000</td>\n",
              "      <td>1470.000000</td>\n",
              "      <td>1470.000000</td>\n",
              "    </tr>\n",
              "    <tr>\n",
              "      <th>mean</th>\n",
              "      <td>36.923810</td>\n",
              "      <td>0.161224</td>\n",
              "      <td>802.485714</td>\n",
              "      <td>9.192517</td>\n",
              "      <td>2.912925</td>\n",
              "      <td>1.0</td>\n",
              "      <td>1024.865306</td>\n",
              "      <td>2.721769</td>\n",
              "      <td>65.891156</td>\n",
              "      <td>2.729932</td>\n",
              "      <td>...</td>\n",
              "      <td>2.712245</td>\n",
              "      <td>80.0</td>\n",
              "      <td>0.793878</td>\n",
              "      <td>11.279592</td>\n",
              "      <td>2.799320</td>\n",
              "      <td>2.761224</td>\n",
              "      <td>7.008163</td>\n",
              "      <td>4.229252</td>\n",
              "      <td>2.187755</td>\n",
              "      <td>4.123129</td>\n",
              "    </tr>\n",
              "    <tr>\n",
              "      <th>std</th>\n",
              "      <td>9.135373</td>\n",
              "      <td>0.367863</td>\n",
              "      <td>403.509100</td>\n",
              "      <td>8.106864</td>\n",
              "      <td>1.024165</td>\n",
              "      <td>0.0</td>\n",
              "      <td>602.024335</td>\n",
              "      <td>1.093082</td>\n",
              "      <td>20.329428</td>\n",
              "      <td>0.711561</td>\n",
              "      <td>...</td>\n",
              "      <td>1.081209</td>\n",
              "      <td>0.0</td>\n",
              "      <td>0.852077</td>\n",
              "      <td>7.780782</td>\n",
              "      <td>1.289271</td>\n",
              "      <td>0.706476</td>\n",
              "      <td>6.126525</td>\n",
              "      <td>3.623137</td>\n",
              "      <td>3.222430</td>\n",
              "      <td>3.568136</td>\n",
              "    </tr>\n",
              "    <tr>\n",
              "      <th>min</th>\n",
              "      <td>18.000000</td>\n",
              "      <td>0.000000</td>\n",
              "      <td>102.000000</td>\n",
              "      <td>1.000000</td>\n",
              "      <td>1.000000</td>\n",
              "      <td>1.0</td>\n",
              "      <td>1.000000</td>\n",
              "      <td>1.000000</td>\n",
              "      <td>30.000000</td>\n",
              "      <td>1.000000</td>\n",
              "      <td>...</td>\n",
              "      <td>1.000000</td>\n",
              "      <td>80.0</td>\n",
              "      <td>0.000000</td>\n",
              "      <td>0.000000</td>\n",
              "      <td>0.000000</td>\n",
              "      <td>1.000000</td>\n",
              "      <td>0.000000</td>\n",
              "      <td>0.000000</td>\n",
              "      <td>0.000000</td>\n",
              "      <td>0.000000</td>\n",
              "    </tr>\n",
              "    <tr>\n",
              "      <th>25%</th>\n",
              "      <td>30.000000</td>\n",
              "      <td>0.000000</td>\n",
              "      <td>465.000000</td>\n",
              "      <td>2.000000</td>\n",
              "      <td>2.000000</td>\n",
              "      <td>1.0</td>\n",
              "      <td>491.250000</td>\n",
              "      <td>2.000000</td>\n",
              "      <td>48.000000</td>\n",
              "      <td>2.000000</td>\n",
              "      <td>...</td>\n",
              "      <td>2.000000</td>\n",
              "      <td>80.0</td>\n",
              "      <td>0.000000</td>\n",
              "      <td>6.000000</td>\n",
              "      <td>2.000000</td>\n",
              "      <td>2.000000</td>\n",
              "      <td>3.000000</td>\n",
              "      <td>2.000000</td>\n",
              "      <td>0.000000</td>\n",
              "      <td>2.000000</td>\n",
              "    </tr>\n",
              "    <tr>\n",
              "      <th>50%</th>\n",
              "      <td>36.000000</td>\n",
              "      <td>0.000000</td>\n",
              "      <td>802.000000</td>\n",
              "      <td>7.000000</td>\n",
              "      <td>3.000000</td>\n",
              "      <td>1.0</td>\n",
              "      <td>1020.500000</td>\n",
              "      <td>3.000000</td>\n",
              "      <td>66.000000</td>\n",
              "      <td>3.000000</td>\n",
              "      <td>...</td>\n",
              "      <td>3.000000</td>\n",
              "      <td>80.0</td>\n",
              "      <td>1.000000</td>\n",
              "      <td>10.000000</td>\n",
              "      <td>3.000000</td>\n",
              "      <td>3.000000</td>\n",
              "      <td>5.000000</td>\n",
              "      <td>3.000000</td>\n",
              "      <td>1.000000</td>\n",
              "      <td>3.000000</td>\n",
              "    </tr>\n",
              "    <tr>\n",
              "      <th>75%</th>\n",
              "      <td>43.000000</td>\n",
              "      <td>0.000000</td>\n",
              "      <td>1157.000000</td>\n",
              "      <td>14.000000</td>\n",
              "      <td>4.000000</td>\n",
              "      <td>1.0</td>\n",
              "      <td>1555.750000</td>\n",
              "      <td>4.000000</td>\n",
              "      <td>83.750000</td>\n",
              "      <td>3.000000</td>\n",
              "      <td>...</td>\n",
              "      <td>4.000000</td>\n",
              "      <td>80.0</td>\n",
              "      <td>1.000000</td>\n",
              "      <td>15.000000</td>\n",
              "      <td>3.000000</td>\n",
              "      <td>3.000000</td>\n",
              "      <td>9.000000</td>\n",
              "      <td>7.000000</td>\n",
              "      <td>3.000000</td>\n",
              "      <td>7.000000</td>\n",
              "    </tr>\n",
              "    <tr>\n",
              "      <th>max</th>\n",
              "      <td>60.000000</td>\n",
              "      <td>1.000000</td>\n",
              "      <td>1499.000000</td>\n",
              "      <td>29.000000</td>\n",
              "      <td>5.000000</td>\n",
              "      <td>1.0</td>\n",
              "      <td>2068.000000</td>\n",
              "      <td>4.000000</td>\n",
              "      <td>100.000000</td>\n",
              "      <td>4.000000</td>\n",
              "      <td>...</td>\n",
              "      <td>4.000000</td>\n",
              "      <td>80.0</td>\n",
              "      <td>3.000000</td>\n",
              "      <td>40.000000</td>\n",
              "      <td>6.000000</td>\n",
              "      <td>4.000000</td>\n",
              "      <td>40.000000</td>\n",
              "      <td>18.000000</td>\n",
              "      <td>15.000000</td>\n",
              "      <td>17.000000</td>\n",
              "    </tr>\n",
              "  </tbody>\n",
              "</table>\n",
              "<p>8 rows × 27 columns</p>\n",
              "</div>\n",
              "      <button class=\"colab-df-convert\" onclick=\"convertToInteractive('df-77544649-bee2-49c7-92c6-ebe46e20545f')\"\n",
              "              title=\"Convert this dataframe to an interactive table.\"\n",
              "              style=\"display:none;\">\n",
              "        \n",
              "  <svg xmlns=\"http://www.w3.org/2000/svg\" height=\"24px\"viewBox=\"0 0 24 24\"\n",
              "       width=\"24px\">\n",
              "    <path d=\"M0 0h24v24H0V0z\" fill=\"none\"/>\n",
              "    <path d=\"M18.56 5.44l.94 2.06.94-2.06 2.06-.94-2.06-.94-.94-2.06-.94 2.06-2.06.94zm-11 1L8.5 8.5l.94-2.06 2.06-.94-2.06-.94L8.5 2.5l-.94 2.06-2.06.94zm10 10l.94 2.06.94-2.06 2.06-.94-2.06-.94-.94-2.06-.94 2.06-2.06.94z\"/><path d=\"M17.41 7.96l-1.37-1.37c-.4-.4-.92-.59-1.43-.59-.52 0-1.04.2-1.43.59L10.3 9.45l-7.72 7.72c-.78.78-.78 2.05 0 2.83L4 21.41c.39.39.9.59 1.41.59.51 0 1.02-.2 1.41-.59l7.78-7.78 2.81-2.81c.8-.78.8-2.07 0-2.86zM5.41 20L4 18.59l7.72-7.72 1.47 1.35L5.41 20z\"/>\n",
              "  </svg>\n",
              "      </button>\n",
              "      \n",
              "  <style>\n",
              "    .colab-df-container {\n",
              "      display:flex;\n",
              "      flex-wrap:wrap;\n",
              "      gap: 12px;\n",
              "    }\n",
              "\n",
              "    .colab-df-convert {\n",
              "      background-color: #E8F0FE;\n",
              "      border: none;\n",
              "      border-radius: 50%;\n",
              "      cursor: pointer;\n",
              "      display: none;\n",
              "      fill: #1967D2;\n",
              "      height: 32px;\n",
              "      padding: 0 0 0 0;\n",
              "      width: 32px;\n",
              "    }\n",
              "\n",
              "    .colab-df-convert:hover {\n",
              "      background-color: #E2EBFA;\n",
              "      box-shadow: 0px 1px 2px rgba(60, 64, 67, 0.3), 0px 1px 3px 1px rgba(60, 64, 67, 0.15);\n",
              "      fill: #174EA6;\n",
              "    }\n",
              "\n",
              "    [theme=dark] .colab-df-convert {\n",
              "      background-color: #3B4455;\n",
              "      fill: #D2E3FC;\n",
              "    }\n",
              "\n",
              "    [theme=dark] .colab-df-convert:hover {\n",
              "      background-color: #434B5C;\n",
              "      box-shadow: 0px 1px 3px 1px rgba(0, 0, 0, 0.15);\n",
              "      filter: drop-shadow(0px 1px 2px rgba(0, 0, 0, 0.3));\n",
              "      fill: #FFFFFF;\n",
              "    }\n",
              "  </style>\n",
              "\n",
              "      <script>\n",
              "        const buttonEl =\n",
              "          document.querySelector('#df-77544649-bee2-49c7-92c6-ebe46e20545f button.colab-df-convert');\n",
              "        buttonEl.style.display =\n",
              "          google.colab.kernel.accessAllowed ? 'block' : 'none';\n",
              "\n",
              "        async function convertToInteractive(key) {\n",
              "          const element = document.querySelector('#df-77544649-bee2-49c7-92c6-ebe46e20545f');\n",
              "          const dataTable =\n",
              "            await google.colab.kernel.invokeFunction('convertToInteractive',\n",
              "                                                     [key], {});\n",
              "          if (!dataTable) return;\n",
              "\n",
              "          const docLinkHtml = 'Like what you see? Visit the ' +\n",
              "            '<a target=\"_blank\" href=https://colab.research.google.com/notebooks/data_table.ipynb>data table notebook</a>'\n",
              "            + ' to learn more about interactive tables.';\n",
              "          element.innerHTML = '';\n",
              "          dataTable['output_type'] = 'display_data';\n",
              "          await google.colab.output.renderOutput(dataTable, element);\n",
              "          const docLink = document.createElement('div');\n",
              "          docLink.innerHTML = docLinkHtml;\n",
              "          element.appendChild(docLink);\n",
              "        }\n",
              "      </script>\n",
              "    </div>\n",
              "  </div>\n",
              "  "
            ]
          },
          "metadata": {},
          "execution_count": 89
        }
      ]
    },
    {
      "cell_type": "code",
      "source": [
        "data.head(2)"
      ],
      "metadata": {
        "colab": {
          "base_uri": "https://localhost:8080/",
          "height": 223
        },
        "id": "CK3v_j6GVSzN",
        "outputId": "2b94da62-6ca0-484c-c0d1-c884d946066f"
      },
      "execution_count": 90,
      "outputs": [
        {
          "output_type": "execute_result",
          "data": {
            "text/plain": [
              "   Age  Attrition     BusinessTravel  DailyRate              Department  \\\n",
              "0   41          1      Travel_Rarely       1102                   Sales   \n",
              "1   49          0  Travel_Frequently        279  Research & Development   \n",
              "\n",
              "   DistanceFromHome  Education EducationField  EmployeeCount  EmployeeNumber  \\\n",
              "0                 1          2  Life Sciences              1               1   \n",
              "1                 8          1  Life Sciences              1               2   \n",
              "\n",
              "   ...  RelationshipSatisfaction StandardHours  StockOptionLevel  \\\n",
              "0  ...                         1            80                 0   \n",
              "1  ...                         4            80                 1   \n",
              "\n",
              "   TotalWorkingYears  TrainingTimesLastYear WorkLifeBalance  YearsAtCompany  \\\n",
              "0                  8                      0               1               6   \n",
              "1                 10                      3               3              10   \n",
              "\n",
              "  YearsInCurrentRole  YearsSinceLastPromotion  YearsWithCurrManager  \n",
              "0                  4                        0                     5  \n",
              "1                  7                        1                     7  \n",
              "\n",
              "[2 rows x 35 columns]"
            ],
            "text/html": [
              "\n",
              "  <div id=\"df-38fa946f-fa3b-4013-91c8-cf5b1eaf8e05\">\n",
              "    <div class=\"colab-df-container\">\n",
              "      <div>\n",
              "<style scoped>\n",
              "    .dataframe tbody tr th:only-of-type {\n",
              "        vertical-align: middle;\n",
              "    }\n",
              "\n",
              "    .dataframe tbody tr th {\n",
              "        vertical-align: top;\n",
              "    }\n",
              "\n",
              "    .dataframe thead th {\n",
              "        text-align: right;\n",
              "    }\n",
              "</style>\n",
              "<table border=\"1\" class=\"dataframe\">\n",
              "  <thead>\n",
              "    <tr style=\"text-align: right;\">\n",
              "      <th></th>\n",
              "      <th>Age</th>\n",
              "      <th>Attrition</th>\n",
              "      <th>BusinessTravel</th>\n",
              "      <th>DailyRate</th>\n",
              "      <th>Department</th>\n",
              "      <th>DistanceFromHome</th>\n",
              "      <th>Education</th>\n",
              "      <th>EducationField</th>\n",
              "      <th>EmployeeCount</th>\n",
              "      <th>EmployeeNumber</th>\n",
              "      <th>...</th>\n",
              "      <th>RelationshipSatisfaction</th>\n",
              "      <th>StandardHours</th>\n",
              "      <th>StockOptionLevel</th>\n",
              "      <th>TotalWorkingYears</th>\n",
              "      <th>TrainingTimesLastYear</th>\n",
              "      <th>WorkLifeBalance</th>\n",
              "      <th>YearsAtCompany</th>\n",
              "      <th>YearsInCurrentRole</th>\n",
              "      <th>YearsSinceLastPromotion</th>\n",
              "      <th>YearsWithCurrManager</th>\n",
              "    </tr>\n",
              "  </thead>\n",
              "  <tbody>\n",
              "    <tr>\n",
              "      <th>0</th>\n",
              "      <td>41</td>\n",
              "      <td>1</td>\n",
              "      <td>Travel_Rarely</td>\n",
              "      <td>1102</td>\n",
              "      <td>Sales</td>\n",
              "      <td>1</td>\n",
              "      <td>2</td>\n",
              "      <td>Life Sciences</td>\n",
              "      <td>1</td>\n",
              "      <td>1</td>\n",
              "      <td>...</td>\n",
              "      <td>1</td>\n",
              "      <td>80</td>\n",
              "      <td>0</td>\n",
              "      <td>8</td>\n",
              "      <td>0</td>\n",
              "      <td>1</td>\n",
              "      <td>6</td>\n",
              "      <td>4</td>\n",
              "      <td>0</td>\n",
              "      <td>5</td>\n",
              "    </tr>\n",
              "    <tr>\n",
              "      <th>1</th>\n",
              "      <td>49</td>\n",
              "      <td>0</td>\n",
              "      <td>Travel_Frequently</td>\n",
              "      <td>279</td>\n",
              "      <td>Research &amp; Development</td>\n",
              "      <td>8</td>\n",
              "      <td>1</td>\n",
              "      <td>Life Sciences</td>\n",
              "      <td>1</td>\n",
              "      <td>2</td>\n",
              "      <td>...</td>\n",
              "      <td>4</td>\n",
              "      <td>80</td>\n",
              "      <td>1</td>\n",
              "      <td>10</td>\n",
              "      <td>3</td>\n",
              "      <td>3</td>\n",
              "      <td>10</td>\n",
              "      <td>7</td>\n",
              "      <td>1</td>\n",
              "      <td>7</td>\n",
              "    </tr>\n",
              "  </tbody>\n",
              "</table>\n",
              "<p>2 rows × 35 columns</p>\n",
              "</div>\n",
              "      <button class=\"colab-df-convert\" onclick=\"convertToInteractive('df-38fa946f-fa3b-4013-91c8-cf5b1eaf8e05')\"\n",
              "              title=\"Convert this dataframe to an interactive table.\"\n",
              "              style=\"display:none;\">\n",
              "        \n",
              "  <svg xmlns=\"http://www.w3.org/2000/svg\" height=\"24px\"viewBox=\"0 0 24 24\"\n",
              "       width=\"24px\">\n",
              "    <path d=\"M0 0h24v24H0V0z\" fill=\"none\"/>\n",
              "    <path d=\"M18.56 5.44l.94 2.06.94-2.06 2.06-.94-2.06-.94-.94-2.06-.94 2.06-2.06.94zm-11 1L8.5 8.5l.94-2.06 2.06-.94-2.06-.94L8.5 2.5l-.94 2.06-2.06.94zm10 10l.94 2.06.94-2.06 2.06-.94-2.06-.94-.94-2.06-.94 2.06-2.06.94z\"/><path d=\"M17.41 7.96l-1.37-1.37c-.4-.4-.92-.59-1.43-.59-.52 0-1.04.2-1.43.59L10.3 9.45l-7.72 7.72c-.78.78-.78 2.05 0 2.83L4 21.41c.39.39.9.59 1.41.59.51 0 1.02-.2 1.41-.59l7.78-7.78 2.81-2.81c.8-.78.8-2.07 0-2.86zM5.41 20L4 18.59l7.72-7.72 1.47 1.35L5.41 20z\"/>\n",
              "  </svg>\n",
              "      </button>\n",
              "      \n",
              "  <style>\n",
              "    .colab-df-container {\n",
              "      display:flex;\n",
              "      flex-wrap:wrap;\n",
              "      gap: 12px;\n",
              "    }\n",
              "\n",
              "    .colab-df-convert {\n",
              "      background-color: #E8F0FE;\n",
              "      border: none;\n",
              "      border-radius: 50%;\n",
              "      cursor: pointer;\n",
              "      display: none;\n",
              "      fill: #1967D2;\n",
              "      height: 32px;\n",
              "      padding: 0 0 0 0;\n",
              "      width: 32px;\n",
              "    }\n",
              "\n",
              "    .colab-df-convert:hover {\n",
              "      background-color: #E2EBFA;\n",
              "      box-shadow: 0px 1px 2px rgba(60, 64, 67, 0.3), 0px 1px 3px 1px rgba(60, 64, 67, 0.15);\n",
              "      fill: #174EA6;\n",
              "    }\n",
              "\n",
              "    [theme=dark] .colab-df-convert {\n",
              "      background-color: #3B4455;\n",
              "      fill: #D2E3FC;\n",
              "    }\n",
              "\n",
              "    [theme=dark] .colab-df-convert:hover {\n",
              "      background-color: #434B5C;\n",
              "      box-shadow: 0px 1px 3px 1px rgba(0, 0, 0, 0.15);\n",
              "      filter: drop-shadow(0px 1px 2px rgba(0, 0, 0, 0.3));\n",
              "      fill: #FFFFFF;\n",
              "    }\n",
              "  </style>\n",
              "\n",
              "      <script>\n",
              "        const buttonEl =\n",
              "          document.querySelector('#df-38fa946f-fa3b-4013-91c8-cf5b1eaf8e05 button.colab-df-convert');\n",
              "        buttonEl.style.display =\n",
              "          google.colab.kernel.accessAllowed ? 'block' : 'none';\n",
              "\n",
              "        async function convertToInteractive(key) {\n",
              "          const element = document.querySelector('#df-38fa946f-fa3b-4013-91c8-cf5b1eaf8e05');\n",
              "          const dataTable =\n",
              "            await google.colab.kernel.invokeFunction('convertToInteractive',\n",
              "                                                     [key], {});\n",
              "          if (!dataTable) return;\n",
              "\n",
              "          const docLinkHtml = 'Like what you see? Visit the ' +\n",
              "            '<a target=\"_blank\" href=https://colab.research.google.com/notebooks/data_table.ipynb>data table notebook</a>'\n",
              "            + ' to learn more about interactive tables.';\n",
              "          element.innerHTML = '';\n",
              "          dataTable['output_type'] = 'display_data';\n",
              "          await google.colab.output.renderOutput(dataTable, element);\n",
              "          const docLink = document.createElement('div');\n",
              "          docLink.innerHTML = docLinkHtml;\n",
              "          element.appendChild(docLink);\n",
              "        }\n",
              "      </script>\n",
              "    </div>\n",
              "  </div>\n",
              "  "
            ]
          },
          "metadata": {},
          "execution_count": 90
        }
      ]
    },
    {
      "cell_type": "markdown",
      "source": [
        "getting the value counts of the Business Travel from the data"
      ],
      "metadata": {
        "id": "TAWGNMewpX4J"
      }
    },
    {
      "cell_type": "code",
      "source": [
        "data['BusinessTravel'].value_counts()"
      ],
      "metadata": {
        "colab": {
          "base_uri": "https://localhost:8080/"
        },
        "id": "WsivPmFzVMQa",
        "outputId": "4faf82cf-a1f7-4add-db79-f3fa6ae6a6f1"
      },
      "execution_count": 13,
      "outputs": [
        {
          "output_type": "execute_result",
          "data": {
            "text/plain": [
              "Travel_Rarely        1043\n",
              "Travel_Frequently     277\n",
              "Non-Travel            150\n",
              "Name: BusinessTravel, dtype: int64"
            ]
          },
          "metadata": {},
          "execution_count": 13
        }
      ]
    },
    {
      "cell_type": "markdown",
      "source": [
        "this shows that there are more number of rarely travelling employees in the dataset"
      ],
      "metadata": {
        "id": "rxccKlkdpdn2"
      }
    },
    {
      "cell_type": "markdown",
      "source": [
        "creating a countplot that shows the count of the employees in the dataset based on their Departments"
      ],
      "metadata": {
        "id": "KjWaooXqpkDh"
      }
    },
    {
      "cell_type": "code",
      "source": [
        "ax=sns.countplot(data=data,x='Department',palette='viridis')\n",
        "plt.title(\"Count of Employees based on their Department\")\n",
        "plt.xlabel('Department')\n",
        "plt.ylabel('Count of Label')\n",
        "for bars in ax.containers:\n",
        "  ax.bar_label(bars)"
      ],
      "metadata": {
        "colab": {
          "base_uri": "https://localhost:8080/",
          "height": 472
        },
        "id": "KDwMGxQQVW6J",
        "outputId": "3e142a94-6715-402c-a92a-89e321b22291"
      },
      "execution_count": 91,
      "outputs": [
        {
          "output_type": "display_data",
          "data": {
            "text/plain": [
              "<Figure size 640x480 with 1 Axes>"
            ],
            "image/png": "[encoded data removed]"
          },
          "metadata": {}
        }
      ]
    },
    {
      "cell_type": "markdown",
      "source": [
        "this shows that there are more number of employees working in the Research and Development Department and least working in HR"
      ],
      "metadata": {
        "id": "qoFa28RZpreh"
      }
    },
    {
      "cell_type": "markdown",
      "source": [
        "displaying the value count of the Education Field of the employees"
      ],
      "metadata": {
        "id": "eaoq1RV0p2Fh"
      }
    },
    {
      "cell_type": "code",
      "source": [
        "data['EducationField'].value_counts()"
      ],
      "metadata": {
        "colab": {
          "base_uri": "https://localhost:8080/"
        },
        "id": "vbFMBTJoVgv9",
        "outputId": "49682375-ce0e-48ad-85c0-c972da9abbd4"
      },
      "execution_count": 92,
      "outputs": [
        {
          "output_type": "execute_result",
          "data": {
            "text/plain": [
              "Life Sciences       606\n",
              "Medical             464\n",
              "Marketing           159\n",
              "Technical Degree    132\n",
              "Other                82\n",
              "Human Resources      27\n",
              "Name: EducationField, dtype: int64"
            ]
          },
          "metadata": {},
          "execution_count": 92
        }
      ]
    },
    {
      "cell_type": "markdown",
      "source": [
        "this shows that maximum number of employees have educational field as Life Sciences and least have HR"
      ],
      "metadata": {
        "id": "o3VxKZSHp_P3"
      }
    },
    {
      "cell_type": "code",
      "source": [
        "data.columns"
      ],
      "metadata": {
        "colab": {
          "base_uri": "https://localhost:8080/"
        },
        "id": "J3p6XZnlWyjT",
        "outputId": "a67c3fe8-3ac6-4264-9a19-49deab0ba833"
      },
      "execution_count": 93,
      "outputs": [
        {
          "output_type": "execute_result",
          "data": {
            "text/plain": [
              "Index(['Age', 'Attrition', 'BusinessTravel', 'DailyRate', 'Department',\n",
              "       'DistanceFromHome', 'Education', 'EducationField', 'EmployeeCount',\n",
              "       'EmployeeNumber', 'EnvironmentSatisfaction', 'Gender', 'HourlyRate',\n",
              "       'JobInvolvement', 'JobLevel', 'JobRole', 'JobSatisfaction',\n",
              "       'MaritalStatus', 'MonthlyIncome', 'MonthlyRate', 'NumCompaniesWorked',\n",
              "       'Over18', 'OverTime', 'PercentSalaryHike', 'PerformanceRating',\n",
              "       'RelationshipSatisfaction', 'StandardHours', 'StockOptionLevel',\n",
              "       'TotalWorkingYears', 'TrainingTimesLastYear', 'WorkLifeBalance',\n",
              "       'YearsAtCompany', 'YearsInCurrentRole', 'YearsSinceLastPromotion',\n",
              "       'YearsWithCurrManager'],\n",
              "      dtype='object')"
            ]
          },
          "metadata": {},
          "execution_count": 93
        }
      ]
    },
    {
      "cell_type": "markdown",
      "source": [
        "creating an interactive pie chart that shows counts of employees based on different attributes selected by the user"
      ],
      "metadata": {
        "id": "Xsa04eJQqP6c"
      }
    },
    {
      "cell_type": "code",
      "source": [
        "@interact(x=['Education','EnvironmentSatisfaction','Gender','JobInvolvement','JobSatisfaction','PerformanceRating','WorkLifeBalance','MaritalStatus'])\n",
        "def analysis(x):\n",
        "  if x=='Education':\n",
        "    req_data=data['Education']\n",
        "  elif x=='EnvironmentSatisfaction':\n",
        "    req_data=data['EnvironmentSatisfaction']\n",
        "  elif x=='Gender':\n",
        "    req_data=data['Gender']\n",
        "  elif x=='JobInvolvement':\n",
        "    req_data=data['JobInvolvement']\n",
        "  elif x=='JobSatisfaction':\n",
        "    req_data=data['JobSatisfaction']\n",
        "  elif x=='JobSatisfaction':\n",
        "    req_data=data['MaritalStatus']\n",
        "  elif x=='MaritalStatus':\n",
        "    req_data=data['PerformanceRating']\n",
        "  elif x=='WorkLifeBalance':\n",
        "    req_data=data['WorkLifeBalance']\n",
        "  plt.pie(req_data.value_counts(),autopct=\"%1.1f%%\")\n",
        "  plt.title(f\"Counts of Employee as per {x}\")\n",
        "  plt.legend(data[x],loc='upper right')\n",
        "  plt.show()"
      ],
      "metadata": {
        "colab": {
          "base_uri": "https://localhost:8080/",
          "height": 460,
          "referenced_widgets": [
            "9faafaaed9bd4749a518f3a89dec7c35",
            "ea1de5b681cc48718a64be761d189a56",
            "92e14ce1cca741a39b5c7187f66306e5",
            "531f2569f9224fe9aae8699b54ed16f9",
            "c54568643db646f2a000e49c9e5bc51c",
            "2edad6587a1f4670aabe3a8a50e50634",
            "7d891fe1201845eebaf1ca40c5830556"
          ]
        },
        "id": "Y7CThbyQWZHg",
        "outputId": "be5aeca3-f4ec-4885-9e62-943ee34d1c9f"
      },
      "execution_count": 94,
      "outputs": [
        {
          "output_type": "display_data",
          "data": {
            "text/plain": [
              "interactive(children=(Dropdown(description='x', options=('Education', 'EnvironmentSatisfaction', 'Gender', 'Jo…"
            ],
            "application/vnd.jupyter.widget-view+json": {
              "version_major": 2,
              "version_minor": 0,
              "model_id": "9faafaaed9bd4749a518f3a89dec7c35"
            }
          },
          "metadata": {}
        }
      ]
    },
    {
      "cell_type": "markdown",
      "source": [
        "creating a count plot that shows the count of employees as per their salary hike"
      ],
      "metadata": {
        "id": "qbjG5HwiqgZ3"
      }
    },
    {
      "cell_type": "code",
      "source": [
        "ax=sns.countplot(x='PercentSalaryHike',data=data)\n",
        "plt.title(\"Percentage Salary Hike of Employees\")\n",
        "for bars in ax.containers:\n",
        "  ax.bar_label(bars)"
      ],
      "metadata": {
        "colab": {
          "base_uri": "https://localhost:8080/",
          "height": 472
        },
        "id": "MVUw1mGFaqXF",
        "outputId": "05c63def-36f9-442b-a122-bf179eca9fa3"
      },
      "execution_count": 96,
      "outputs": [
        {
          "output_type": "display_data",
          "data": {
            "text/plain": [
              "<Figure size 640x480 with 1 Axes>"
            ],
            "image/png": "[encoded data removed]"
          },
          "metadata": {}
        }
      ]
    },
    {
      "cell_type": "markdown",
      "source": [
        "this shows that large number of employees have 11% salary hike"
      ],
      "metadata": {
        "id": "Thwgee4RqvTW"
      }
    },
    {
      "cell_type": "markdown",
      "source": [
        "creating a new dataframe that shows the count of the employee based on their years at the company"
      ],
      "metadata": {
        "id": "hk9XalGvqz95"
      }
    },
    {
      "cell_type": "code",
      "source": [
        "df=pd.DataFrame(data['YearsAtCompany'].value_counts())\n",
        "df"
      ],
      "metadata": {
        "colab": {
          "base_uri": "https://localhost:8080/",
          "height": 1000
        },
        "id": "23fFChIYbU1O",
        "outputId": "bbf1b617-d137-4f23-a0d4-0ce023573911"
      },
      "execution_count": 36,
      "outputs": [
        {
          "output_type": "execute_result",
          "data": {
            "text/plain": [
              "    YearsAtCompany\n",
              "5              196\n",
              "1              171\n",
              "3              128\n",
              "2              127\n",
              "10             120\n",
              "4              110\n",
              "7               90\n",
              "9               82\n",
              "8               80\n",
              "6               76\n",
              "0               44\n",
              "11              32\n",
              "20              27\n",
              "13              24\n",
              "15              20\n",
              "14              18\n",
              "22              15\n",
              "12              14\n",
              "21              14\n",
              "18              13\n",
              "16              12\n",
              "19              11\n",
              "17               9\n",
              "24               6\n",
              "33               5\n",
              "25               4\n",
              "26               4\n",
              "31               3\n",
              "32               3\n",
              "27               2\n",
              "36               2\n",
              "29               2\n",
              "23               2\n",
              "37               1\n",
              "40               1\n",
              "34               1\n",
              "30               1"
            ],
            "text/html": [
              "\n",
              "  <div id=\"df-3c6c47e5-ad91-4522-ab87-5198dff09f84\">\n",
              "    <div class=\"colab-df-container\">\n",
              "      <div>\n",
              "<style scoped>\n",
              "    .dataframe tbody tr th:only-of-type {\n",
              "        vertical-align: middle;\n",
              "    }\n",
              "\n",
              "    .dataframe tbody tr th {\n",
              "        vertical-align: top;\n",
              "    }\n",
              "\n",
              "    .dataframe thead th {\n",
              "        text-align: right;\n",
              "    }\n",
              "</style>\n",
              "<table border=\"1\" class=\"dataframe\">\n",
              "  <thead>\n",
              "    <tr style=\"text-align: right;\">\n",
              "      <th></th>\n",
              "      <th>YearsAtCompany</th>\n",
              "    </tr>\n",
              "  </thead>\n",
              "  <tbody>\n",
              "    <tr>\n",
              "      <th>5</th>\n",
              "      <td>196</td>\n",
              "    </tr>\n",
              "    <tr>\n",
              "      <th>1</th>\n",
              "      <td>171</td>\n",
              "    </tr>\n",
              "    <tr>\n",
              "      <th>3</th>\n",
              "      <td>128</td>\n",
              "    </tr>\n",
              "    <tr>\n",
              "      <th>2</th>\n",
              "      <td>127</td>\n",
              "    </tr>\n",
              "    <tr>\n",
              "      <th>10</th>\n",
              "      <td>120</td>\n",
              "    </tr>\n",
              "    <tr>\n",
              "      <th>4</th>\n",
              "      <td>110</td>\n",
              "    </tr>\n",
              "    <tr>\n",
              "      <th>7</th>\n",
              "      <td>90</td>\n",
              "    </tr>\n",
              "    <tr>\n",
              "      <th>9</th>\n",
              "      <td>82</td>\n",
              "    </tr>\n",
              "    <tr>\n",
              "      <th>8</th>\n",
              "      <td>80</td>\n",
              "    </tr>\n",
              "    <tr>\n",
              "      <th>6</th>\n",
              "      <td>76</td>\n",
              "    </tr>\n",
              "    <tr>\n",
              "      <th>0</th>\n",
              "      <td>44</td>\n",
              "    </tr>\n",
              "    <tr>\n",
              "      <th>11</th>\n",
              "      <td>32</td>\n",
              "    </tr>\n",
              "    <tr>\n",
              "      <th>20</th>\n",
              "      <td>27</td>\n",
              "    </tr>\n",
              "    <tr>\n",
              "      <th>13</th>\n",
              "      <td>24</td>\n",
              "    </tr>\n",
              "    <tr>\n",
              "      <th>15</th>\n",
              "      <td>20</td>\n",
              "    </tr>\n",
              "    <tr>\n",
              "      <th>14</th>\n",
              "      <td>18</td>\n",
              "    </tr>\n",
              "    <tr>\n",
              "      <th>22</th>\n",
              "      <td>15</td>\n",
              "    </tr>\n",
              "    <tr>\n",
              "      <th>12</th>\n",
              "      <td>14</td>\n",
              "    </tr>\n",
              "    <tr>\n",
              "      <th>21</th>\n",
              "      <td>14</td>\n",
              "    </tr>\n",
              "    <tr>\n",
              "      <th>18</th>\n",
              "      <td>13</td>\n",
              "    </tr>\n",
              "    <tr>\n",
              "      <th>16</th>\n",
              "      <td>12</td>\n",
              "    </tr>\n",
              "    <tr>\n",
              "      <th>19</th>\n",
              "      <td>11</td>\n",
              "    </tr>\n",
              "    <tr>\n",
              "      <th>17</th>\n",
              "      <td>9</td>\n",
              "    </tr>\n",
              "    <tr>\n",
              "      <th>24</th>\n",
              "      <td>6</td>\n",
              "    </tr>\n",
              "    <tr>\n",
              "      <th>33</th>\n",
              "      <td>5</td>\n",
              "    </tr>\n",
              "    <tr>\n",
              "      <th>25</th>\n",
              "      <td>4</td>\n",
              "    </tr>\n",
              "    <tr>\n",
              "      <th>26</th>\n",
              "      <td>4</td>\n",
              "    </tr>\n",
              "    <tr>\n",
              "      <th>31</th>\n",
              "      <td>3</td>\n",
              "    </tr>\n",
              "    <tr>\n",
              "      <th>32</th>\n",
              "      <td>3</td>\n",
              "    </tr>\n",
              "    <tr>\n",
              "      <th>27</th>\n",
              "      <td>2</td>\n",
              "    </tr>\n",
              "    <tr>\n",
              "      <th>36</th>\n",
              "      <td>2</td>\n",
              "    </tr>\n",
              "    <tr>\n",
              "      <th>29</th>\n",
              "      <td>2</td>\n",
              "    </tr>\n",
              "    <tr>\n",
              "      <th>23</th>\n",
              "      <td>2</td>\n",
              "    </tr>\n",
              "    <tr>\n",
              "      <th>37</th>\n",
              "      <td>1</td>\n",
              "    </tr>\n",
              "    <tr>\n",
              "      <th>40</th>\n",
              "      <td>1</td>\n",
              "    </tr>\n",
              "    <tr>\n",
              "      <th>34</th>\n",
              "      <td>1</td>\n",
              "    </tr>\n",
              "    <tr>\n",
              "      <th>30</th>\n",
              "      <td>1</td>\n",
              "    </tr>\n",
              "  </tbody>\n",
              "</table>\n",
              "</div>\n",
              "      <button class=\"colab-df-convert\" onclick=\"convertToInteractive('df-3c6c47e5-ad91-4522-ab87-5198dff09f84')\"\n",
              "              title=\"Convert this dataframe to an interactive table.\"\n",
              "              style=\"display:none;\">\n",
              "        \n",
              "  <svg xmlns=\"http://www.w3.org/2000/svg\" height=\"24px\"viewBox=\"0 0 24 24\"\n",
              "       width=\"24px\">\n",
              "    <path d=\"M0 0h24v24H0V0z\" fill=\"none\"/>\n",
              "    <path d=\"M18.56 5.44l.94 2.06.94-2.06 2.06-.94-2.06-.94-.94-2.06-.94 2.06-2.06.94zm-11 1L8.5 8.5l.94-2.06 2.06-.94-2.06-.94L8.5 2.5l-.94 2.06-2.06.94zm10 10l.94 2.06.94-2.06 2.06-.94-2.06-.94-.94-2.06-.94 2.06-2.06.94z\"/><path d=\"M17.41 7.96l-1.37-1.37c-.4-.4-.92-.59-1.43-.59-.52 0-1.04.2-1.43.59L10.3 9.45l-7.72 7.72c-.78.78-.78 2.05 0 2.83L4 21.41c.39.39.9.59 1.41.59.51 0 1.02-.2 1.41-.59l7.78-7.78 2.81-2.81c.8-.78.8-2.07 0-2.86zM5.41 20L4 18.59l7.72-7.72 1.47 1.35L5.41 20z\"/>\n",
              "  </svg>\n",
              "      </button>\n",
              "      \n",
              "  <style>\n",
              "    .colab-df-container {\n",
              "      display:flex;\n",
              "      flex-wrap:wrap;\n",
              "      gap: 12px;\n",
              "    }\n",
              "\n",
              "    .colab-df-convert {\n",
              "      background-color: #E8F0FE;\n",
              "      border: none;\n",
              "      border-radius: 50%;\n",
              "      cursor: pointer;\n",
              "      display: none;\n",
              "      fill: #1967D2;\n",
              "      height: 32px;\n",
              "      padding: 0 0 0 0;\n",
              "      width: 32px;\n",
              "    }\n",
              "\n",
              "    .colab-df-convert:hover {\n",
              "      background-color: #E2EBFA;\n",
              "      box-shadow: 0px 1px 2px rgba(60, 64, 67, 0.3), 0px 1px 3px 1px rgba(60, 64, 67, 0.15);\n",
              "      fill: #174EA6;\n",
              "    }\n",
              "\n",
              "    [theme=dark] .colab-df-convert {\n",
              "      background-color: #3B4455;\n",
              "      fill: #D2E3FC;\n",
              "    }\n",
              "\n",
              "    [theme=dark] .colab-df-convert:hover {\n",
              "      background-color: #434B5C;\n",
              "      box-shadow: 0px 1px 3px 1px rgba(0, 0, 0, 0.15);\n",
              "      filter: drop-shadow(0px 1px 2px rgba(0, 0, 0, 0.3));\n",
              "      fill: #FFFFFF;\n",
              "    }\n",
              "  </style>\n",
              "\n",
              "      <script>\n",
              "        const buttonEl =\n",
              "          document.querySelector('#df-3c6c47e5-ad91-4522-ab87-5198dff09f84 button.colab-df-convert');\n",
              "        buttonEl.style.display =\n",
              "          google.colab.kernel.accessAllowed ? 'block' : 'none';\n",
              "\n",
              "        async function convertToInteractive(key) {\n",
              "          const element = document.querySelector('#df-3c6c47e5-ad91-4522-ab87-5198dff09f84');\n",
              "          const dataTable =\n",
              "            await google.colab.kernel.invokeFunction('convertToInteractive',\n",
              "                                                     [key], {});\n",
              "          if (!dataTable) return;\n",
              "\n",
              "          const docLinkHtml = 'Like what you see? Visit the ' +\n",
              "            '<a target=\"_blank\" href=https://colab.research.google.com/notebooks/data_table.ipynb>data table notebook</a>'\n",
              "            + ' to learn more about interactive tables.';\n",
              "          element.innerHTML = '';\n",
              "          dataTable['output_type'] = 'display_data';\n",
              "          await google.colab.output.renderOutput(dataTable, element);\n",
              "          const docLink = document.createElement('div');\n",
              "          docLink.innerHTML = docLinkHtml;\n",
              "          element.appendChild(docLink);\n",
              "        }\n",
              "      </script>\n",
              "    </div>\n",
              "  </div>\n",
              "  "
            ]
          },
          "metadata": {},
          "execution_count": 36
        }
      ]
    },
    {
      "cell_type": "markdown",
      "source": [
        "from this we can infer that maximum employees have 5 yrs at the company"
      ],
      "metadata": {
        "id": "QHsWHcYyq_Wx"
      }
    },
    {
      "cell_type": "markdown",
      "source": [
        "checking how many employees prefer overtime"
      ],
      "metadata": {
        "id": "V7EhQQLwrEcn"
      }
    },
    {
      "cell_type": "code",
      "source": [
        "data['OverTime'].value_counts()"
      ],
      "metadata": {
        "colab": {
          "base_uri": "https://localhost:8080/"
        },
        "id": "sHJ3sTaRbu1S",
        "outputId": "00f4d9c4-d70b-4a43-bfde-87c166ad181f"
      },
      "execution_count": 37,
      "outputs": [
        {
          "output_type": "execute_result",
          "data": {
            "text/plain": [
              "No     1054\n",
              "Yes     416\n",
              "Name: OverTime, dtype: int64"
            ]
          },
          "metadata": {},
          "execution_count": 37
        }
      ]
    },
    {
      "cell_type": "markdown",
      "source": [
        "thsi shows that not much people prefer overtime"
      ],
      "metadata": {
        "id": "D7C6osvrrIdM"
      }
    },
    {
      "cell_type": "markdown",
      "source": [
        "creating an interactive bar chart that shows the distribution of the salary of the employees based on the factors selected by the user"
      ],
      "metadata": {
        "id": "SGrs9jF6rNry"
      }
    },
    {
      "cell_type": "code",
      "source": [
        "@interact(factors=['EducationField','OverTime','JobRole','YearsAtCompany','Department'])\n",
        "def analysis1(factors):\n",
        "  if factors=='EducationField':\n",
        "    ax=data['EducationField']\n",
        "    plt.bar(ax,data['MonthlyIncome'])\n",
        "  elif factors=='OverTime':\n",
        "    ax=data['OverTime']\n",
        "    plt.bar(ax,data['MonthlyIncome'])\n",
        "  elif factors=='YearsAtCompany':\n",
        "    ax=data['YearsAtCompany']\n",
        "    plt.bar(ax,data['MonthlyIncome'])\n",
        "  elif factors=='JobRole':\n",
        "    ax=data['JobRole']\n",
        "    plt.bar(ax,data['MonthlyIncome'])\n",
        "  elif factors=='Department':\n",
        "    ax=data['Department']\n",
        "    plt.bar(ax,data['MonthlyIncome'])\n",
        "  plt.xlabel(f'{factors}')\n",
        "  plt.xticks(rotation=45)\n",
        "  plt.ylabel(\"Monthly Income of Employees\")\n",
        "  plt.title(f\"Salary Distribution as per {factors}\")\n",
        "  plt.show()"
      ],
      "metadata": {
        "colab": {
          "base_uri": "https://localhost:8080/",
          "height": 588,
          "referenced_widgets": [
            "0800765da0cf4157ac7d3118ca7e6822",
            "60197087eb504904afb4bab6890276c4",
            "c795ba13af0247acb90be9172630c383",
            "3aeea8ed1b684111b1eccdd551774867",
            "94fad13add80444bb1ab7419f726bd7f",
            "e65ba189d44a4a56b58686f8312d3d79",
            "64cf717e72eb4678bbacc389c6eb77f0"
          ]
        },
        "id": "KfjKCRB3cYRZ",
        "outputId": "b42ea124-912c-4937-895b-78c1830aa1d9"
      },
      "execution_count": 97,
      "outputs": [
        {
          "output_type": "display_data",
          "data": {
            "text/plain": [
              "interactive(children=(Dropdown(description='factors', options=('EducationField', 'OverTime', 'JobRole', 'Years…"
            ],
            "application/vnd.jupyter.widget-view+json": {
              "version_major": 2,
              "version_minor": 0,
              "model_id": "0800765da0cf4157ac7d3118ca7e6822"
            }
          },
          "metadata": {}
        }
      ]
    },
    {
      "cell_type": "markdown",
      "source": [
        "MODEL CREATION"
      ],
      "metadata": {
        "id": "CVW-lzd_reO3"
      }
    },
    {
      "cell_type": "markdown",
      "source": [
        "creating training and testing data. Here x is independent variables and y is dependent variable"
      ],
      "metadata": {
        "id": "JBJBr_80rlaq"
      }
    },
    {
      "cell_type": "code",
      "source": [
        "x=data[['Age','MonthlyIncome','EnvironmentSatisfaction','JobSatisfaction','PercentSalaryHike','TotalWorkingYears','DistanceFromHome']]\n",
        "y=data['Attrition']"
      ],
      "metadata": {
        "id": "9wHjTnOPcf9p"
      },
      "execution_count": 99,
      "outputs": []
    },
    {
      "cell_type": "markdown",
      "source": [
        "splitting the data into training and testing set"
      ],
      "metadata": {
        "id": "x8WZSOaKrt8o"
      }
    },
    {
      "cell_type": "code",
      "source": [
        "x_train,x_test,y_train,y_test=train_test_split(x,y,test_size=0.20,random_state=3)"
      ],
      "metadata": {
        "id": "euY77mEAhZSK"
      },
      "execution_count": 100,
      "outputs": []
    },
    {
      "cell_type": "markdown",
      "source": [
        "creating a Logistic Regression Model"
      ],
      "metadata": {
        "id": "didTSc_IrxTG"
      }
    },
    {
      "cell_type": "code",
      "source": [
        "lr=LogisticRegression()"
      ],
      "metadata": {
        "id": "SsHv-OdMhPTd"
      },
      "execution_count": 101,
      "outputs": []
    },
    {
      "cell_type": "markdown",
      "source": [
        "training the model with data"
      ],
      "metadata": {
        "id": "Tx6cwpT2r1Dc"
      }
    },
    {
      "cell_type": "code",
      "source": [
        "lr.fit(x_train,y_train)"
      ],
      "metadata": {
        "colab": {
          "base_uri": "https://localhost:8080/",
          "height": 213
        },
        "id": "M9sXR5_khi0M",
        "outputId": "4db804b1-00df-4df8-f25a-6148330dcbe5"
      },
      "execution_count": 102,
      "outputs": [
        {
          "output_type": "stream",
          "name": "stderr",
          "text": [
            "/usr/local/lib/python3.10/dist-packages/sklearn/linear_model/_logistic.py:458: ConvergenceWarning: lbfgs failed to converge (status=1):\n",
            "STOP: TOTAL NO. of ITERATIONS REACHED LIMIT.\n",
            "\n",
            "Increase the number of iterations (max_iter) or scale the data as shown in:\n",
            "    https://scikit-learn.org/stable/modules/preprocessing.html\n",
            "Please also refer to the documentation for alternative solver options:\n",
            "    https://scikit-learn.org/stable/modules/linear_model.html#logistic-regression\n",
            "  n_iter_i = _check_optimize_result(\n"
          ]
        },
        {
          "output_type": "execute_result",
          "data": {
            "text/plain": [
              "LogisticRegression()"
            ],
            "text/html": [
              "<style>#sk-container-id-4 {color: black;background-color: white;}#sk-container-id-4 pre{padding: 0;}#sk-container-id-4 div.sk-toggleable {background-color: white;}#sk-container-id-4 label.sk-toggleable__label {cursor: pointer;display: block;width: 100%;margin-bottom: 0;padding: 0.3em;box-sizing: border-box;text-align: center;}#sk-container-id-4 label.sk-toggleable__label-arrow:before {content: \"▸\";float: left;margin-right: 0.25em;color: #696969;}#sk-container-id-4 label.sk-toggleable__label-arrow:hover:before {color: black;}#sk-container-id-4 div.sk-estimator:hover label.sk-toggleable__label-arrow:before {color: black;}#sk-container-id-4 div.sk-toggleable__content {max-height: 0;max-width: 0;overflow: hidden;text-align: left;background-color: #f0f8ff;}#sk-container-id-4 div.sk-toggleable__content pre {margin: 0.2em;color: black;border-radius: 0.25em;background-color: #f0f8ff;}#sk-container-id-4 input.sk-toggleable__control:checked~div.sk-toggleable__content {max-height: 200px;max-width: 100%;overflow: auto;}#sk-container-id-4 input.sk-toggleable__control:checked~label.sk-toggleable__label-arrow:before {content: \"▾\";}#sk-container-id-4 div.sk-estimator input.sk-toggleable__control:checked~label.sk-toggleable__label {background-color: #d4ebff;}#sk-container-id-4 div.sk-label input.sk-toggleable__control:checked~label.sk-toggleable__label {background-color: #d4ebff;}#sk-container-id-4 input.sk-hidden--visually {border: 0;clip: rect(1px 1px 1px 1px);clip: rect(1px, 1px, 1px, 1px);height: 1px;margin: -1px;overflow: hidden;padding: 0;position: absolute;width: 1px;}#sk-container-id-4 div.sk-estimator {font-family: monospace;background-color: #f0f8ff;border: 1px dotted black;border-radius: 0.25em;box-sizing: border-box;margin-bottom: 0.5em;}#sk-container-id-4 div.sk-estimator:hover {background-color: #d4ebff;}#sk-container-id-4 div.sk-parallel-item::after {content: \"\";width: 100%;border-bottom: 1px solid gray;flex-grow: 1;}#sk-container-id-4 div.sk-label:hover label.sk-toggleable__label {background-color: #d4ebff;}#sk-container-id-4 div.sk-serial::before {content: \"\";position: absolute;border-left: 1px solid gray;box-sizing: border-box;top: 0;bottom: 0;left: 50%;z-index: 0;}#sk-container-id-4 div.sk-serial {display: flex;flex-direction: column;align-items: center;background-color: white;padding-right: 0.2em;padding-left: 0.2em;position: relative;}#sk-container-id-4 div.sk-item {position: relative;z-index: 1;}#sk-container-id-4 div.sk-parallel {display: flex;align-items: stretch;justify-content: center;background-color: white;position: relative;}#sk-container-id-4 div.sk-item::before, #sk-container-id-4 div.sk-parallel-item::before {content: \"\";position: absolute;border-left: 1px solid gray;box-sizing: border-box;top: 0;bottom: 0;left: 50%;z-index: -1;}#sk-container-id-4 div.sk-parallel-item {display: flex;flex-direction: column;z-index: 1;position: relative;background-color: white;}#sk-container-id-4 div.sk-parallel-item:first-child::after {align-self: flex-end;width: 50%;}#sk-container-id-4 div.sk-parallel-item:last-child::after {align-self: flex-start;width: 50%;}#sk-container-id-4 div.sk-parallel-item:only-child::after {width: 0;}#sk-container-id-4 div.sk-dashed-wrapped {border: 1px dashed gray;margin: 0 0.4em 0.5em 0.4em;box-sizing: border-box;padding-bottom: 0.4em;background-color: white;}#sk-container-id-4 div.sk-label label {font-family: monospace;font-weight: bold;display: inline-block;line-height: 1.2em;}#sk-container-id-4 div.sk-label-container {text-align: center;}#sk-container-id-4 div.sk-container {/* jupyter's `normalize.less` sets `[hidden] { display: none; }` but bootstrap.min.css set `[hidden] { display: none !important; }` so we also need the `!important` here to be able to override the default hidden behavior on the sphinx rendered scikit-learn.org. See: https://github.com/scikit-learn/scikit-learn/issues/21755 */display: inline-block !important;position: relative;}#sk-container-id-4 div.sk-text-repr-fallback {display: none;}</style><div id=\"sk-container-id-4\" class=\"sk-top-container\"><div class=\"sk-text-repr-fallback\"><pre>LogisticRegression()</pre><b>In a Jupyter environment, please rerun this cell to show the HTML representation or trust the notebook. <br />On GitHub, the HTML representation is unable to render, please try loading this page with nbviewer.org.</b></div><div class=\"sk-container\" hidden><div class=\"sk-item\"><div class=\"sk-estimator sk-toggleable\"><input class=\"sk-toggleable__control sk-hidden--visually\" id=\"sk-estimator-id-4\" type=\"checkbox\" checked><label for=\"sk-estimator-id-4\" class=\"sk-toggleable__label sk-toggleable__label-arrow\">LogisticRegression</label><div class=\"sk-toggleable__content\"><pre>LogisticRegression()</pre></div></div></div></div></div>"
            ]
          },
          "metadata": {},
          "execution_count": 102
        }
      ]
    },
    {
      "cell_type": "markdown",
      "source": [
        "predicting the data with logistic regression model"
      ],
      "metadata": {
        "id": "kaMoRr84r36I"
      }
    },
    {
      "cell_type": "code",
      "source": [
        "prediction1=lr.predict(x_test)"
      ],
      "metadata": {
        "id": "F5_iOoN5hrhS"
      },
      "execution_count": 103,
      "outputs": []
    },
    {
      "cell_type": "markdown",
      "source": [
        "checking the accuracy of the model"
      ],
      "metadata": {
        "id": "nVfOl828r7nY"
      }
    },
    {
      "cell_type": "code",
      "source": [
        "acc_score_lr=accuracy_score(y_test,prediction1)"
      ],
      "metadata": {
        "id": "d4dJjV19hxWB"
      },
      "execution_count": 104,
      "outputs": []
    },
    {
      "cell_type": "code",
      "source": [
        "print(\"The accuracy score of the Logistic Regression Model is : \",acc_score_lr)"
      ],
      "metadata": {
        "colab": {
          "base_uri": "https://localhost:8080/"
        },
        "id": "fyv5fznFh4G_",
        "outputId": "ec84113e-0b32-4f41-c1ce-0722eabeb2d5"
      },
      "execution_count": 105,
      "outputs": [
        {
          "output_type": "stream",
          "name": "stdout",
          "text": [
            "The accuracy score of the Logistic Regression Model is :  0.8605442176870748\n"
          ]
        }
      ]
    },
    {
      "cell_type": "markdown",
      "source": [
        "creating a gaussianNB model"
      ],
      "metadata": {
        "id": "AlJ995ZWr-kr"
      }
    },
    {
      "cell_type": "code",
      "source": [
        "gnb=GaussianNB()"
      ],
      "metadata": {
        "id": "Y3fh1UGVh_d0"
      },
      "execution_count": 106,
      "outputs": []
    },
    {
      "cell_type": "markdown",
      "source": [
        "training the model with the data"
      ],
      "metadata": {
        "id": "ZuAkQ3dnsBvQ"
      }
    },
    {
      "cell_type": "code",
      "source": [
        "gnb.fit(x_train,y_train)"
      ],
      "metadata": {
        "colab": {
          "base_uri": "https://localhost:8080/",
          "height": 74
        },
        "id": "bunB5g0NiY2W",
        "outputId": "623496cd-ca0c-44a9-d291-e382157d77ee"
      },
      "execution_count": 107,
      "outputs": [
        {
          "output_type": "execute_result",
          "data": {
            "text/plain": [
              "GaussianNB()"
            ],
            "text/html": [
              "<style>#sk-container-id-5 {color: black;background-color: white;}#sk-container-id-5 pre{padding: 0;}#sk-container-id-5 div.sk-toggleable {background-color: white;}#sk-container-id-5 label.sk-toggleable__label {cursor: pointer;display: block;width: 100%;margin-bottom: 0;padding: 0.3em;box-sizing: border-box;text-align: center;}#sk-container-id-5 label.sk-toggleable__label-arrow:before {content: \"▸\";float: left;margin-right: 0.25em;color: #696969;}#sk-container-id-5 label.sk-toggleable__label-arrow:hover:before {color: black;}#sk-container-id-5 div.sk-estimator:hover label.sk-toggleable__label-arrow:before {color: black;}#sk-container-id-5 div.sk-toggleable__content {max-height: 0;max-width: 0;overflow: hidden;text-align: left;background-color: #f0f8ff;}#sk-container-id-5 div.sk-toggleable__content pre {margin: 0.2em;color: black;border-radius: 0.25em;background-color: #f0f8ff;}#sk-container-id-5 input.sk-toggleable__control:checked~div.sk-toggleable__content {max-height: 200px;max-width: 100%;overflow: auto;}#sk-container-id-5 input.sk-toggleable__control:checked~label.sk-toggleable__label-arrow:before {content: \"▾\";}#sk-container-id-5 div.sk-estimator input.sk-toggleable__control:checked~label.sk-toggleable__label {background-color: #d4ebff;}#sk-container-id-5 div.sk-label input.sk-toggleable__control:checked~label.sk-toggleable__label {background-color: #d4ebff;}#sk-container-id-5 input.sk-hidden--visually {border: 0;clip: rect(1px 1px 1px 1px);clip: rect(1px, 1px, 1px, 1px);height: 1px;margin: -1px;overflow: hidden;padding: 0;position: absolute;width: 1px;}#sk-container-id-5 div.sk-estimator {font-family: monospace;background-color: #f0f8ff;border: 1px dotted black;border-radius: 0.25em;box-sizing: border-box;margin-bottom: 0.5em;}#sk-container-id-5 div.sk-estimator:hover {background-color: #d4ebff;}#sk-container-id-5 div.sk-parallel-item::after {content: \"\";width: 100%;border-bottom: 1px solid gray;flex-grow: 1;}#sk-container-id-5 div.sk-label:hover label.sk-toggleable__label {background-color: #d4ebff;}#sk-container-id-5 div.sk-serial::before {content: \"\";position: absolute;border-left: 1px solid gray;box-sizing: border-box;top: 0;bottom: 0;left: 50%;z-index: 0;}#sk-container-id-5 div.sk-serial {display: flex;flex-direction: column;align-items: center;background-color: white;padding-right: 0.2em;padding-left: 0.2em;position: relative;}#sk-container-id-5 div.sk-item {position: relative;z-index: 1;}#sk-container-id-5 div.sk-parallel {display: flex;align-items: stretch;justify-content: center;background-color: white;position: relative;}#sk-container-id-5 div.sk-item::before, #sk-container-id-5 div.sk-parallel-item::before {content: \"\";position: absolute;border-left: 1px solid gray;box-sizing: border-box;top: 0;bottom: 0;left: 50%;z-index: -1;}#sk-container-id-5 div.sk-parallel-item {display: flex;flex-direction: column;z-index: 1;position: relative;background-color: white;}#sk-container-id-5 div.sk-parallel-item:first-child::after {align-self: flex-end;width: 50%;}#sk-container-id-5 div.sk-parallel-item:last-child::after {align-self: flex-start;width: 50%;}#sk-container-id-5 div.sk-parallel-item:only-child::after {width: 0;}#sk-container-id-5 div.sk-dashed-wrapped {border: 1px dashed gray;margin: 0 0.4em 0.5em 0.4em;box-sizing: border-box;padding-bottom: 0.4em;background-color: white;}#sk-container-id-5 div.sk-label label {font-family: monospace;font-weight: bold;display: inline-block;line-height: 1.2em;}#sk-container-id-5 div.sk-label-container {text-align: center;}#sk-container-id-5 div.sk-container {/* jupyter's `normalize.less` sets `[hidden] { display: none; }` but bootstrap.min.css set `[hidden] { display: none !important; }` so we also need the `!important` here to be able to override the default hidden behavior on the sphinx rendered scikit-learn.org. See: https://github.com/scikit-learn/scikit-learn/issues/21755 */display: inline-block !important;position: relative;}#sk-container-id-5 div.sk-text-repr-fallback {display: none;}</style><div id=\"sk-container-id-5\" class=\"sk-top-container\"><div class=\"sk-text-repr-fallback\"><pre>GaussianNB()</pre><b>In a Jupyter environment, please rerun this cell to show the HTML representation or trust the notebook. <br />On GitHub, the HTML representation is unable to render, please try loading this page with nbviewer.org.</b></div><div class=\"sk-container\" hidden><div class=\"sk-item\"><div class=\"sk-estimator sk-toggleable\"><input class=\"sk-toggleable__control sk-hidden--visually\" id=\"sk-estimator-id-5\" type=\"checkbox\" checked><label for=\"sk-estimator-id-5\" class=\"sk-toggleable__label sk-toggleable__label-arrow\">GaussianNB</label><div class=\"sk-toggleable__content\"><pre>GaussianNB()</pre></div></div></div></div></div>"
            ]
          },
          "metadata": {},
          "execution_count": 107
        }
      ]
    },
    {
      "cell_type": "markdown",
      "source": [
        "predicting the data with GaussianNB model"
      ],
      "metadata": {
        "id": "DG_iAvO0sElv"
      }
    },
    {
      "cell_type": "code",
      "source": [
        "prediction2=gnb.predict(x_test)"
      ],
      "metadata": {
        "id": "eWtdLFVYicZK"
      },
      "execution_count": 64,
      "outputs": []
    },
    {
      "cell_type": "markdown",
      "source": [
        "checking the accuracy of the model"
      ],
      "metadata": {
        "id": "AU9Os5PnsLq9"
      }
    },
    {
      "cell_type": "code",
      "source": [
        "acc_score_gnb=accuracy_score(y_test,prediction2)"
      ],
      "metadata": {
        "id": "C3fI392kihG2"
      },
      "execution_count": 108,
      "outputs": []
    },
    {
      "cell_type": "code",
      "source": [
        "print(\"The accuracy score of the GaussianNB Model is : \",acc_score_gnb)"
      ],
      "metadata": {
        "colab": {
          "base_uri": "https://localhost:8080/"
        },
        "id": "6oTcymZOioUO",
        "outputId": "646b9cb4-0476-407e-e47e-61189ed3994d"
      },
      "execution_count": 109,
      "outputs": [
        {
          "output_type": "stream",
          "name": "stdout",
          "text": [
            "The accuracy score of the GaussianNB Model is :  0.8299319727891157\n"
          ]
        }
      ]
    },
    {
      "cell_type": "markdown",
      "source": [
        "creating a decision tree model"
      ],
      "metadata": {
        "id": "bcwdJPnTsOlt"
      }
    },
    {
      "cell_type": "code",
      "source": [
        "dtc=DecisionTreeClassifier()"
      ],
      "metadata": {
        "id": "ty_Y3ikgiwHB"
      },
      "execution_count": 110,
      "outputs": []
    },
    {
      "cell_type": "markdown",
      "source": [
        "training the model with the data\n"
      ],
      "metadata": {
        "id": "CqjXMh5FsRGK"
      }
    },
    {
      "cell_type": "code",
      "source": [
        "dtc.fit(x_train,y_train)"
      ],
      "metadata": {
        "colab": {
          "base_uri": "https://localhost:8080/",
          "height": 74
        },
        "id": "IPzFhAHljkSP",
        "outputId": "168873ad-257a-45f4-e79a-a1e46efdc530"
      },
      "execution_count": 111,
      "outputs": [
        {
          "output_type": "execute_result",
          "data": {
            "text/plain": [
              "DecisionTreeClassifier()"
            ],
            "text/html": [
              "<style>#sk-container-id-6 {color: black;background-color: white;}#sk-container-id-6 pre{padding: 0;}#sk-container-id-6 div.sk-toggleable {background-color: white;}#sk-container-id-6 label.sk-toggleable__label {cursor: pointer;display: block;width: 100%;margin-bottom: 0;padding: 0.3em;box-sizing: border-box;text-align: center;}#sk-container-id-6 label.sk-toggleable__label-arrow:before {content: \"▸\";float: left;margin-right: 0.25em;color: #696969;}#sk-container-id-6 label.sk-toggleable__label-arrow:hover:before {color: black;}#sk-container-id-6 div.sk-estimator:hover label.sk-toggleable__label-arrow:before {color: black;}#sk-container-id-6 div.sk-toggleable__content {max-height: 0;max-width: 0;overflow: hidden;text-align: left;background-color: #f0f8ff;}#sk-container-id-6 div.sk-toggleable__content pre {margin: 0.2em;color: black;border-radius: 0.25em;background-color: #f0f8ff;}#sk-container-id-6 input.sk-toggleable__control:checked~div.sk-toggleable__content {max-height: 200px;max-width: 100%;overflow: auto;}#sk-container-id-6 input.sk-toggleable__control:checked~label.sk-toggleable__label-arrow:before {content: \"▾\";}#sk-container-id-6 div.sk-estimator input.sk-toggleable__control:checked~label.sk-toggleable__label {background-color: #d4ebff;}#sk-container-id-6 div.sk-label input.sk-toggleable__control:checked~label.sk-toggleable__label {background-color: #d4ebff;}#sk-container-id-6 input.sk-hidden--visually {border: 0;clip: rect(1px 1px 1px 1px);clip: rect(1px, 1px, 1px, 1px);height: 1px;margin: -1px;overflow: hidden;padding: 0;position: absolute;width: 1px;}#sk-container-id-6 div.sk-estimator {font-family: monospace;background-color: #f0f8ff;border: 1px dotted black;border-radius: 0.25em;box-sizing: border-box;margin-bottom: 0.5em;}#sk-container-id-6 div.sk-estimator:hover {background-color: #d4ebff;}#sk-container-id-6 div.sk-parallel-item::after {content: \"\";width: 100%;border-bottom: 1px solid gray;flex-grow: 1;}#sk-container-id-6 div.sk-label:hover label.sk-toggleable__label {background-color: #d4ebff;}#sk-container-id-6 div.sk-serial::before {content: \"\";position: absolute;border-left: 1px solid gray;box-sizing: border-box;top: 0;bottom: 0;left: 50%;z-index: 0;}#sk-container-id-6 div.sk-serial {display: flex;flex-direction: column;align-items: center;background-color: white;padding-right: 0.2em;padding-left: 0.2em;position: relative;}#sk-container-id-6 div.sk-item {position: relative;z-index: 1;}#sk-container-id-6 div.sk-parallel {display: flex;align-items: stretch;justify-content: center;background-color: white;position: relative;}#sk-container-id-6 div.sk-item::before, #sk-container-id-6 div.sk-parallel-item::before {content: \"\";position: absolute;border-left: 1px solid gray;box-sizing: border-box;top: 0;bottom: 0;left: 50%;z-index: -1;}#sk-container-id-6 div.sk-parallel-item {display: flex;flex-direction: column;z-index: 1;position: relative;background-color: white;}#sk-container-id-6 div.sk-parallel-item:first-child::after {align-self: flex-end;width: 50%;}#sk-container-id-6 div.sk-parallel-item:last-child::after {align-self: flex-start;width: 50%;}#sk-container-id-6 div.sk-parallel-item:only-child::after {width: 0;}#sk-container-id-6 div.sk-dashed-wrapped {border: 1px dashed gray;margin: 0 0.4em 0.5em 0.4em;box-sizing: border-box;padding-bottom: 0.4em;background-color: white;}#sk-container-id-6 div.sk-label label {font-family: monospace;font-weight: bold;display: inline-block;line-height: 1.2em;}#sk-container-id-6 div.sk-label-container {text-align: center;}#sk-container-id-6 div.sk-container {/* jupyter's `normalize.less` sets `[hidden] { display: none; }` but bootstrap.min.css set `[hidden] { display: none !important; }` so we also need the `!important` here to be able to override the default hidden behavior on the sphinx rendered scikit-learn.org. See: https://github.com/scikit-learn/scikit-learn/issues/21755 */display: inline-block !important;position: relative;}#sk-container-id-6 div.sk-text-repr-fallback {display: none;}</style><div id=\"sk-container-id-6\" class=\"sk-top-container\"><div class=\"sk-text-repr-fallback\"><pre>DecisionTreeClassifier()</pre><b>In a Jupyter environment, please rerun this cell to show the HTML representation or trust the notebook. <br />On GitHub, the HTML representation is unable to render, please try loading this page with nbviewer.org.</b></div><div class=\"sk-container\" hidden><div class=\"sk-item\"><div class=\"sk-estimator sk-toggleable\"><input class=\"sk-toggleable__control sk-hidden--visually\" id=\"sk-estimator-id-6\" type=\"checkbox\" checked><label for=\"sk-estimator-id-6\" class=\"sk-toggleable__label sk-toggleable__label-arrow\">DecisionTreeClassifier</label><div class=\"sk-toggleable__content\"><pre>DecisionTreeClassifier()</pre></div></div></div></div></div>"
            ]
          },
          "metadata": {},
          "execution_count": 111
        }
      ]
    },
    {
      "cell_type": "markdown",
      "source": [
        "preidcting the values with the decision tree classifier model"
      ],
      "metadata": {
        "id": "GBDqFN71sU5D"
      }
    },
    {
      "cell_type": "code",
      "source": [
        "prediction3=dtc.predict(x_test)"
      ],
      "metadata": {
        "id": "PlQ5b9uRjm9k"
      },
      "execution_count": 112,
      "outputs": []
    },
    {
      "cell_type": "markdown",
      "source": [
        "checking the accuracy of the model"
      ],
      "metadata": {
        "id": "a9OYc07msZh8"
      }
    },
    {
      "cell_type": "code",
      "source": [
        "acc_score_dtc=accuracy_score(y_test,prediction3)"
      ],
      "metadata": {
        "id": "FNkBYG-yjrHP"
      },
      "execution_count": 113,
      "outputs": []
    },
    {
      "cell_type": "code",
      "source": [
        "print(\"The accuracy score of the Decision Tree Classifier Model is : \",acc_score_dtc)"
      ],
      "metadata": {
        "colab": {
          "base_uri": "https://localhost:8080/"
        },
        "id": "nmoolr3ijzft",
        "outputId": "36c135ba-675f-49a4-e8db-b52e311a880c"
      },
      "execution_count": 114,
      "outputs": [
        {
          "output_type": "stream",
          "name": "stdout",
          "text": [
            "The accuracy score of the Decision Tree Classifier Model is :  0.7142857142857143\n"
          ]
        }
      ]
    },
    {
      "cell_type": "markdown",
      "source": [
        "creating a dataframe that shows the accuracy score of the above models"
      ],
      "metadata": {
        "id": "cileZi45scZ7"
      }
    },
    {
      "cell_type": "code",
      "source": [
        "data_dict = {\n",
        "    'Name_of_Model': ['Logistic Regression', 'GaussianNB', 'Decision Tree Classifier'],\n",
        "    'accuracy_of_model': [acc_score_lr, acc_score_gnb, acc_score_dtc]\n",
        "}"
      ],
      "metadata": {
        "id": "IPKEqUfNk2hm"
      },
      "execution_count": 115,
      "outputs": []
    },
    {
      "cell_type": "code",
      "source": [
        "report=pd.DataFrame(data_dict)\n",
        "report"
      ],
      "metadata": {
        "colab": {
          "base_uri": "https://localhost:8080/",
          "height": 143
        },
        "id": "qYmAOSEMltrJ",
        "outputId": "b83364f9-f500-40e8-e0d5-1f677fa675bf"
      },
      "execution_count": 116,
      "outputs": [
        {
          "output_type": "execute_result",
          "data": {
            "text/plain": [
              "              Name_of_Model  accuracy_of_model\n",
              "0       Logistic Regression           0.860544\n",
              "1                GaussianNB           0.829932\n",
              "2  Decision Tree Classifier           0.714286"
            ],
            "text/html": [
              "\n",
              "  <div id=\"df-1f9d4ac3-9fdf-45de-be14-59dddf68bf92\">\n",
              "    <div class=\"colab-df-container\">\n",
              "      <div>\n",
              "<style scoped>\n",
              "    .dataframe tbody tr th:only-of-type {\n",
              "        vertical-align: middle;\n",
              "    }\n",
              "\n",
              "    .dataframe tbody tr th {\n",
              "        vertical-align: top;\n",
              "    }\n",
              "\n",
              "    .dataframe thead th {\n",
              "        text-align: right;\n",
              "    }\n",
              "</style>\n",
              "<table border=\"1\" class=\"dataframe\">\n",
              "  <thead>\n",
              "    <tr style=\"text-align: right;\">\n",
              "      <th></th>\n",
              "      <th>Name_of_Model</th>\n",
              "      <th>accuracy_of_model</th>\n",
              "    </tr>\n",
              "  </thead>\n",
              "  <tbody>\n",
              "    <tr>\n",
              "      <th>0</th>\n",
              "      <td>Logistic Regression</td>\n",
              "      <td>0.860544</td>\n",
              "    </tr>\n",
              "    <tr>\n",
              "      <th>1</th>\n",
              "      <td>GaussianNB</td>\n",
              "      <td>0.829932</td>\n",
              "    </tr>\n",
              "    <tr>\n",
              "      <th>2</th>\n",
              "      <td>Decision Tree Classifier</td>\n",
              "      <td>0.714286</td>\n",
              "    </tr>\n",
              "  </tbody>\n",
              "</table>\n",
              "</div>\n",
              "      <button class=\"colab-df-convert\" onclick=\"convertToInteractive('df-1f9d4ac3-9fdf-45de-be14-59dddf68bf92')\"\n",
              "              title=\"Convert this dataframe to an interactive table.\"\n",
              "              style=\"display:none;\">\n",
              "        \n",
              "  <svg xmlns=\"http://www.w3.org/2000/svg\" height=\"24px\"viewBox=\"0 0 24 24\"\n",
              "       width=\"24px\">\n",
              "    <path d=\"M0 0h24v24H0V0z\" fill=\"none\"/>\n",
              "    <path d=\"M18.56 5.44l.94 2.06.94-2.06 2.06-.94-2.06-.94-.94-2.06-.94 2.06-2.06.94zm-11 1L8.5 8.5l.94-2.06 2.06-.94-2.06-.94L8.5 2.5l-.94 2.06-2.06.94zm10 10l.94 2.06.94-2.06 2.06-.94-2.06-.94-.94-2.06-.94 2.06-2.06.94z\"/><path d=\"M17.41 7.96l-1.37-1.37c-.4-.4-.92-.59-1.43-.59-.52 0-1.04.2-1.43.59L10.3 9.45l-7.72 7.72c-.78.78-.78 2.05 0 2.83L4 21.41c.39.39.9.59 1.41.59.51 0 1.02-.2 1.41-.59l7.78-7.78 2.81-2.81c.8-.78.8-2.07 0-2.86zM5.41 20L4 18.59l7.72-7.72 1.47 1.35L5.41 20z\"/>\n",
              "  </svg>\n",
              "      </button>\n",
              "      \n",
              "  <style>\n",
              "    .colab-df-container {\n",
              "      display:flex;\n",
              "      flex-wrap:wrap;\n",
              "      gap: 12px;\n",
              "    }\n",
              "\n",
              "    .colab-df-convert {\n",
              "      background-color: #E8F0FE;\n",
              "      border: none;\n",
              "      border-radius: 50%;\n",
              "      cursor: pointer;\n",
              "      display: none;\n",
              "      fill: #1967D2;\n",
              "      height: 32px;\n",
              "      padding: 0 0 0 0;\n",
              "      width: 32px;\n",
              "    }\n",
              "\n",
              "    .colab-df-convert:hover {\n",
              "      background-color: #E2EBFA;\n",
              "      box-shadow: 0px 1px 2px rgba(60, 64, 67, 0.3), 0px 1px 3px 1px rgba(60, 64, 67, 0.15);\n",
              "      fill: #174EA6;\n",
              "    }\n",
              "\n",
              "    [theme=dark] .colab-df-convert {\n",
              "      background-color: #3B4455;\n",
              "      fill: #D2E3FC;\n",
              "    }\n",
              "\n",
              "    [theme=dark] .colab-df-convert:hover {\n",
              "      background-color: #434B5C;\n",
              "      box-shadow: 0px 1px 3px 1px rgba(0, 0, 0, 0.15);\n",
              "      filter: drop-shadow(0px 1px 2px rgba(0, 0, 0, 0.3));\n",
              "      fill: #FFFFFF;\n",
              "    }\n",
              "  </style>\n",
              "\n",
              "      <script>\n",
              "        const buttonEl =\n",
              "          document.querySelector('#df-1f9d4ac3-9fdf-45de-be14-59dddf68bf92 button.colab-df-convert');\n",
              "        buttonEl.style.display =\n",
              "          google.colab.kernel.accessAllowed ? 'block' : 'none';\n",
              "\n",
              "        async function convertToInteractive(key) {\n",
              "          const element = document.querySelector('#df-1f9d4ac3-9fdf-45de-be14-59dddf68bf92');\n",
              "          const dataTable =\n",
              "            await google.colab.kernel.invokeFunction('convertToInteractive',\n",
              "                                                     [key], {});\n",
              "          if (!dataTable) return;\n",
              "\n",
              "          const docLinkHtml = 'Like what you see? Visit the ' +\n",
              "            '<a target=\"_blank\" href=https://colab.research.google.com/notebooks/data_table.ipynb>data table notebook</a>'\n",
              "            + ' to learn more about interactive tables.';\n",
              "          element.innerHTML = '';\n",
              "          dataTable['output_type'] = 'display_data';\n",
              "          await google.colab.output.renderOutput(dataTable, element);\n",
              "          const docLink = document.createElement('div');\n",
              "          docLink.innerHTML = docLinkHtml;\n",
              "          element.appendChild(docLink);\n",
              "        }\n",
              "      </script>\n",
              "    </div>\n",
              "  </div>\n",
              "  "
            ]
          },
          "metadata": {},
          "execution_count": 116
        }
      ]
    },
    {
      "cell_type": "markdown",
      "source": [
        "from the above model we can infer that the Logistic Regression model predicts the data properly than the other models"
      ],
      "metadata": {
        "id": "3fmT4N01skz4"
      }
    },
    {
      "cell_type": "code",
      "source": [],
      "metadata": {
        "id": "VFq7X47bl0mf"
      },
      "execution_count": null,
      "outputs": []
    }
  ]
}